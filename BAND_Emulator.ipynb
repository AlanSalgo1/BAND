{
 "cells": [
  {
   "cell_type": "markdown",
   "id": "925dab3d",
   "metadata": {},
   "source": [
    "## BAND Framework Toy Model: Ball Drop\n",
    "\n",
    "### Part 1: Emulation\n",
    "\n",
    "This is Alan's version of [Surmise's Example 1](https://nbviewer.jupyter.org/github/surmising/surmise/blob/master/examples/Example1/Example1_nb.ipynb). In this example, we will emulate the results from two different **Ball Drop models**: turning on and off the drag force (quadratic velocity dependence). \n",
    "\n",
    "First, we import the required libraries"
   ]
  },
  {
   "cell_type": "code",
   "execution_count": 1,
   "id": "452f5b85",
   "metadata": {},
   "outputs": [],
   "source": [
    "import numpy as np \n",
    "import scipy.stats as sps\n",
    "import matplotlib.pyplot as plt\n",
    "import math\n",
    "\n",
    "from emulation import emulator"
   ]
  },
  {
   "cell_type": "markdown",
   "id": "50f0022d",
   "metadata": {},
   "source": [
    "### Models\n",
    "\n",
    "The height of a large falling ball from a tower is recorded at different times until it reaches the ground. The same phenomenon is described by two different models.\n",
    "\n",
    "\n",
    "#### Model 1 ($M_{1}$)\n",
    "\n",
    "We describe the falling ball without drag force. Here, the gravitational force causes the object to have acceleration $g$ downward. The height is given by *$h = h_{0} - \\frac{1}{2}gt^{2}$* where $h_{0}$ is the initial height and $t$ is the time to reach $h$. The inputs used are:\n",
    "\n",
    "- time $t$,\n",
    "- initial height $h_{0}$, and\n",
    "- gravity $g$.\n",
    "\n",
    "For the next function, we use $x = (t, h_{0})$ and $\\theta = g$; $f$ represents the model outputs."
   ]
  },
  {
   "cell_type": "code",
   "execution_count": 2,
   "id": "9553a487",
   "metadata": {},
   "outputs": [],
   "source": [
    "#x and theta are arrays. \n",
    "\n",
    "def balldropmodel_grav(x, theta):\n",
    "    f = np.zeros((theta.shape[0],x.shape[0]))\n",
    "    for k in range(0, theta.shape[0]):\n",
    "        t = x[:, 0]\n",
    "        h0 = x[:, 1]\n",
    "        g = theta[k]\n",
    "        f[k, :] = h0 - (g / 2) * (t ** 2)\n",
    "    return f.T"
   ]
  },
  {
   "cell_type": "code",
   "execution_count": 3,
   "id": "870806f9",
   "metadata": {},
   "outputs": [],
   "source": [
    "#Checking outputs, and how to arrange inputs:\n",
    "\n",
    "#x = np.array([[1,10],[1,40], [1,8]])\n",
    "#theta = np.array([9.8, 10])\n",
    "#h = balldropmodel_grav(x, theta)\n",
    "#print(h)"
   ]
  },
  {
   "cell_type": "markdown",
   "id": "b15f84ff",
   "metadata": {},
   "source": [
    "### Model 2 ($M_{2}$)\n",
    "\n",
    "$M_{2}$ here is different from that in [surmise](https://nbviewer.jupyter.org/github/surmising/surmise/blob/master/examples/Example1/Example1_nb.ipynb). Surmise uses a drag force that is linear with the velocity. Here, we'll use the quadratic drag force of ball drop in accordance with the [BAND Manifesto](https://arxiv.org/abs/2012.07704).\n",
    "\n",
    "We will use the following inputs:\n",
    "\n",
    "- time $t$,\n",
    "- drag coefficient $\\gamma$,\n",
    "- gravity $g$,\n",
    "- ball's diameter $D$,\n",
    "- ball's mass $m$, and \n",
    "- initial height $h_{0}$.\n",
    "\n",
    "Here $x = (t, h_{0})$ and $\\theta = (g, \\gamma)$, and $\\phi$ = ($m, D$); $f$ represents the model outputs. \n",
    "\n",
    "${\\bf Note: }$ Separate m and D from $\\theta$ array."
   ]
  },
  {
   "cell_type": "code",
   "execution_count": 4,
   "id": "1c58ba34",
   "metadata": {},
   "outputs": [],
   "source": [
    "def balldropmodel_quad(x, theta, phi):\n",
    "    f = np.zeros((theta.shape[0], x.shape[0]))\n",
    "    for k in range(0, theta.shape[0]):\n",
    "        t = x[:, 0]\n",
    "        h0 = x[:, 1]\n",
    "        g = theta[k, 0]\n",
    "        gamma = theta[:, 1]\n",
    "        m = phi[:, 0]\n",
    "        D = phi[:, 1]\n",
    "        c = gamma[k]*(D[k]**2)\n",
    "        vter = np.sqrt(m[k] * (g/c))\n",
    "        \n",
    "        if gamma[k] > 0.0 :\n",
    "            f[k, :] = h0 - ((vter**2)/g)*np.log(np.cosh(g*t/vter))\n",
    "        else :\n",
    "            f[k, :] = balldropmodel_grav(x, theta)\n",
    "    return f.T"
   ]
  },
  {
   "cell_type": "code",
   "execution_count": 5,
   "id": "ebf993e5",
   "metadata": {},
   "outputs": [],
   "source": [
    "#Playing around, checking outputs, and how to arrange inputs:\n",
    "\n",
    "# x = np.array([[1,10],[1,40]])\n",
    "# theta = np.array([[5, 9.8, 0.002], [5, 9.8, 0.001]])\n",
    "# param = np.array([[1,1],[1,1]])\n",
    "# h = balldropmodel_quad(x, theta, param)\n",
    "# print(h)\n",
    "\n",
    "#M2 works and agrees with M1 in the limit gamma -> 0."
   ]
  },
  {
   "cell_type": "markdown",
   "id": "33dd2b58",
   "metadata": {},
   "source": [
    "Let me now implement the previous models in the same input space that Surmise uses. i.e. on an input grid $t \\in [0.1,4.2]$ and $h_{0} \\in \\{25,50\\}$."
   ]
  },
  {
   "cell_type": "code",
   "execution_count": 6,
   "id": "38d2fc78",
   "metadata": {},
   "outputs": [
    {
     "name": "stdout",
     "output_type": "stream",
     "text": [
      "(84, 2)\n"
     ]
    }
   ],
   "source": [
    "# the time vector of interest\n",
    "tvec = np.concatenate((np.arange(0.1, 4.3, 0.1), np.arange(0.1, 4.3, 0.1)))\n",
    "\n",
    "# the drop heights vector of interest\n",
    "h0vec = np.concatenate((25 * np.ones(42), 50 * np.ones(42)))  \n",
    "\n",
    "# the input of interest\n",
    "xtot = (np.vstack((tvec, h0vec)).T).astype('object')\n",
    "\n",
    "\n",
    "xtotv = xtot.astype('float')\n",
    "xtot[xtot[:,1] == 25, 1] = 'lowdrop'\n",
    "xtot[xtot[:,1] == 50, 1] = 'highdrop'\n",
    "\n",
    "print(np.shape(xtot))"
   ]
  },
  {
   "cell_type": "code",
   "execution_count": 7,
   "id": "1817d555",
   "metadata": {},
   "outputs": [],
   "source": [
    "# Printing and checking\n",
    "\n",
    "#print(tvec)\n",
    "#print(xtot)"
   ]
  },
  {
   "cell_type": "markdown",
   "id": "6ed6c4c9",
   "metadata": {},
   "source": [
    "### Prior specification\n",
    "\n",
    "Researchers have a prior knowledge about the unknown parameters in the form of a prior distribution.\n",
    "\n",
    "In $M_{1}$, we assume \n",
    "\n",
    "- $g$ is gamma-distributed random variable with shape $\\alpha$, location $\\mu$ and rate $\\beta$ parameters such that $g$ $\\sim$ $\\Gamma (\\alpha,\\mu,\\beta)$ with $\\alpha$ = 2, $\\mu$ = 0, $\\beta$ = 4.9. This gives a mean $\\alpha * \\beta$ = $9.8$. \n",
    "\n",
    "In $M_{2}$, we assume \n",
    "\n",
    "-  $g$ has a gamma distribution with shape $\\alpha$, location $\\mu$ and rate $\\beta$ parameters such that $g$ $\\sim$ $\\Gamma (\\alpha,\\mu,\\beta)$ with \\$\\alpha$ = 2, $\\mu$ = 0, $\\beta$ = 4.9. This gives mean $\\alpha * \\beta$ = $9.8$.\n",
    "\n",
    "\n",
    "-  $\\gamma$ has a gamma distribution with shape $\\alpha$, location $\\mu$ and rate $\\beta$ parameters such that $\\gamma$ $\\sim$ $\\Gamma (\\alpha,\\mu,\\beta)$ with $\\alpha$ = 10, $\\mu$ = 0, $\\beta$ = 0.05. This gives mean $\\alpha * \\beta$ = $0.5$ and its narrow enough for the majority of the pdf to be in $[0.3, 0.7]$. Variance is given by $\\alpha * \\beta^{2}$."
   ]
  },
  {
   "cell_type": "code",
   "execution_count": 8,
   "id": "3980c937",
   "metadata": {},
   "outputs": [],
   "source": [
    "class priorphys_grav:\n",
    "    \"\"\" This defines the class instance of priors provided to the method. \"\"\"\n",
    "    def lpdf(theta):\n",
    "        return (sps.gamma.logpdf(theta[:, 0], 2, 0, 4.9)).reshape((len(theta), 1))\n",
    "    \n",
    "    def rnd(n):\n",
    "        return np.reshape(sps.gamma.rvs(2, 0, 4.9, size=n), (-1, 1))  # gravity"
   ]
  },
  {
   "cell_type": "code",
   "execution_count": 9,
   "id": "a685e992",
   "metadata": {},
   "outputs": [],
   "source": [
    "class priorphys_quad:\n",
    "    \"\"\" This defines the class instance of priors provided to the method. \"\"\"\n",
    "    def lpdf(theta):\n",
    "        return (sps.gamma.logpdf(theta[:, 0], 2, 0, 4.9), #gravity\n",
    "                sps.gamma.logpdf(theta[:, 1], 10, 0, 0.05)).reshape((len(theta), 1))   # gamma\n",
    "\n",
    "\n",
    "    def rnd(n):\n",
    "        return np.vstack((sps.gamma.rvs(2, 0, 4.9, size=n),  # gravity\n",
    "                          sps.gamma.rvs(10, 0, 0.05, size=n))).T # gamma"
   ]
  },
  {
   "cell_type": "code",
   "execution_count": 10,
   "id": "596df96c",
   "metadata": {},
   "outputs": [],
   "source": [
    "#Setting things to plot the distribitions\n",
    "\n",
    "def dist_stuff(dist):\n",
    "    \"\"\"\n",
    "    Finds the median, mean, and 68%/95% credible intervals for the given \n",
    "    1-d distribution (which is an object from scipy.stats).  \n",
    "    \"\"\"\n",
    "    # For x = median, mean: return x and the value of the pdf at x as a list\n",
    "    median = [dist.median(), dist.pdf(dist.median())]  \n",
    "    mean = [dist.mean(), dist.pdf(dist.mean())]\n",
    "    # The left and right limits of the credibility interval are returned\n",
    "    cred68 = dist.interval(0.68)\n",
    "    cred95 = dist.interval(0.95)\n",
    "    return median, mean, cred68, cred95\n",
    "\n",
    "def dist_mode(dist, x):\n",
    "    \"\"\"\n",
    "    Return the mode (maximum) of the 1-d distribution for array x.\n",
    "    \"\"\"\n",
    "    x_max_index = dist.pdf(x).argmax()\n",
    "    # Return x of the maximum and the value of the pdf at that x \n",
    "    mode = [x[x_max_index], dist.pdf(x[x_max_index])]\n",
    "    return mode\n",
    "\n",
    "def dist_plot(ax, dist_label, x_dist, dist, color='blue'):\n",
    "    \"\"\"\n",
    "    Plot the distribution, indicating median, mean, mode\n",
    "    and 68%/95% probability intervals on the axis that is passed.\n",
    "    \"\"\"\n",
    "    median, mean, cred68, cred95 = dist_stuff(dist)\n",
    "    mode = dist_mode(dist, x_dist)\n",
    "    \n",
    "    ax.plot(x_dist, dist.pdf(x_dist), label=dist_label, color=color)    \n",
    "    ax.set_xlabel('x')\n",
    "    ax.set_ylabel('p(x)')\n",
    "    \n",
    "    # Point to the median, mode, and mean with arrows (adjusting the spacing)\n",
    "    text_x = 0.2*(x_dist[-1] - x_dist[0])\n",
    "    text_x_mid = (x_dist[-1] + x_dist[0]) / 2.\n",
    "    text_y = mode[1]*1.15\n",
    "    ax.annotate('median', xy=median, xytext=(text_x_mid+text_x, text_y),\n",
    "                arrowprops=dict(facecolor='black', shrink=0.05))\n",
    "    ax.annotate('mode', xy=mode, xytext=(text_x_mid-text_x, text_y),\n",
    "                arrowprops=dict(facecolor='red', shrink=0.05))\n",
    "    ax.annotate('mean', xy=mean, xytext=(text_x_mid, text_y),\n",
    "                arrowprops=dict(facecolor='blue', shrink=0.05))\n",
    "    \n",
    "    # Mark the credible intervals using shading (with appropriate alpha)\n",
    "    ax.fill_between(x_dist, 0, dist.pdf(x_dist), \n",
    "                    where=((x_dist > cred68[0]) & (x_dist < cred68[1])), \n",
    "                    facecolor='blue', alpha=0.2)\n",
    "    ax.fill_between(x_dist, 0, dist.pdf(x_dist), \n",
    "                    where=((x_dist > cred95[0]) & (x_dist < cred95[1])), \n",
    "                    facecolor='blue', alpha=0.1)\n",
    "    \n",
    "    ax.legend();"
   ]
  },
  {
   "cell_type": "code",
   "execution_count": 25,
   "id": "8f593cb4",
   "metadata": {},
   "outputs": [
    {
     "name": "stdout",
     "output_type": "stream",
     "text": [
      "Gamma distribution mean:  3.0 \n",
      "Gamma distribution median:  2.517520485024992\n"
     ]
    },
    {
     "data": {
      "image/png": "[encoded data removed]",
      "text/plain": [
       "<Figure size 1080x360 with 1 Axes>"
      ]
     },
     "metadata": {
      "needs_background": "light"
     },
     "output_type": "display_data"
    }
   ],
   "source": [
    "# Make some standard plots: normal, gamma\n",
    "fig = plt.figure(figsize=(15,5))\n",
    "    \n",
    "# gamma distribution, characterized by a, m, and b parameters\n",
    "x_gamma = np.linspace(-0.1, 20, 500)  # beta ranges from 0 to 1 \n",
    "a = 2\n",
    "m = 0\n",
    "b = 1.5\n",
    "\n",
    "gamma_dist = sps.gamma(a, m, b)  # the gamma distribution from scipy.stats\n",
    "gamma1_label='gamma pdf' + '\\n' + rf'$\\alpha=${a:1.1f}' \\\n",
    "              + '\\n' + rf'$\\mu=${m:1.1f}' \\\n",
    "              + '\\n' + rf'$\\beta=${b:1.1f}'\n",
    "ax2 = fig.add_subplot(1,3,2)\n",
    "dist_plot(ax2, gamma1_label, x_gamma, gamma_dist)\n",
    "\n",
    "print(\"Gamma distribution mean: \", gamma_dist.mean(), \\\n",
    "      \"\\nGamma distribution median: \", gamma_dist.median())"
   ]
  },
  {
   "cell_type": "code",
   "execution_count": 12,
   "id": "a57762fc",
   "metadata": {},
   "outputs": [
    {
     "name": "stdout",
     "output_type": "stream",
     "text": [
      "Normal distribution mean:  0.0 \n",
      "Normal distribution median:  0.0\n"
     ]
    },
    {
     "data": {
      "image/png": "[encoded data removed]",
      "text/plain": [
       "<Figure size 1080x360 with 1 Axes>"
      ]
     },
     "metadata": {
      "needs_background": "light"
     },
     "output_type": "display_data"
    }
   ],
   "source": [
    "# Make some standard plots: normal, gamma\n",
    "fig2 = plt.figure(figsize=(15,5))\n",
    "\n",
    "# Standard normal distribution -- try changing the mean and std. dev. \n",
    "x_norm = np.linspace(-5, 5, 500)\n",
    "mu = 0       # mean\n",
    "sigma = math.sqrt(5)  # standard deviation\n",
    "norm_dist = sps.norm(mu, sigma) # the normal distribution from scipy.stats\n",
    "norm_label='normal pdf' + '\\n' + rf'$\\mu=${mu:1.1f}' \\\n",
    "             + '\\n' + rf'$\\sigma=${sigma:1.1f}' \n",
    "ax1 = fig2.add_subplot(1,3,1)\n",
    "dist_plot(ax1, norm_label, x_norm, norm_dist)\n",
    "\n",
    "print(\"Normal distribution mean: \", norm_dist.mean(), \\\n",
    "      \"\\nNormal distribution median: \", norm_dist.median())"
   ]
  },
  {
   "cell_type": "markdown",
   "id": "2f1cdff8",
   "metadata": {},
   "source": [
    "Now, we draw 50 random parameters."
   ]
  },
  {
   "cell_type": "code",
   "execution_count": 13,
   "id": "fddfb92f",
   "metadata": {},
   "outputs": [
    {
     "name": "stdout",
     "output_type": "stream",
     "text": [
      "(50, 1)\n",
      "(50, 2)\n"
     ]
    }
   ],
   "source": [
    "# draw 50 random parameters from the prior\n",
    "theta_grav = priorphys_grav.rnd(50) \n",
    "print(np.shape(theta_grav))\n",
    "\n",
    "# draw 50 random parameters from the prior\n",
    "theta_quad = priorphys_quad.rnd(50)\n",
    "print(np.shape(theta_quad))\n",
    "\n",
    "# Specify mass and diameter of the ball. Draw a list of fixed parameters\n",
    "m = 1\n",
    "D = 1\n",
    "phi = np.vstack(( m * np.ones(50), D * np.ones(50))).T"
   ]
  },
  {
   "cell_type": "code",
   "execution_count": 14,
   "id": "b2bca3ab",
   "metadata": {},
   "outputs": [],
   "source": [
    "# Printing and checking\n",
    "\n",
    "#print(theta_grav)\n",
    "#print(theta_quad)\n",
    "#print(phi)"
   ]
  },
  {
   "cell_type": "markdown",
   "id": "ccaed596",
   "metadata": {},
   "source": [
    "Let's evaluate the computer models $M_{1}$ and $M_{2}$ at those random points generated above."
   ]
  },
  {
   "cell_type": "code",
   "execution_count": 15,
   "id": "a906778c",
   "metadata": {},
   "outputs": [
    {
     "name": "stdout",
     "output_type": "stream",
     "text": [
      "(84, 50)\n",
      "(84, 50)\n"
     ]
    }
   ],
   "source": [
    "# create a computer experiment to build an emulator for the gravity simulation\n",
    "f_grav = balldropmodel_grav(xtotv, theta_grav)  \n",
    "print(np.shape(f_grav))\n",
    "\n",
    "# create a computer experiment to build an emulator for the quadratic simulation\n",
    "f_quad = balldropmodel_quad(xtotv, theta_quad, phi) \n",
    "print(np.shape(f_quad))"
   ]
  },
  {
   "cell_type": "code",
   "execution_count": 16,
   "id": "51816828",
   "metadata": {},
   "outputs": [],
   "source": [
    "# Printing and checking\n",
    "\n",
    "#print(\"\\n First: \\n \\n\", f_grav)\n",
    "#print(\"\\n Second: \\n \\n \", f_quad)"
   ]
  },
  {
   "cell_type": "markdown",
   "id": "bd4e42b2",
   "metadata": {},
   "source": [
    "## Model emulation\n",
    "\n",
    "Now, we will emulate the models $M_{1}$ and $M_{2}$. We will use the PCGP method."
   ]
  },
  {
   "cell_type": "code",
   "execution_count": 17,
   "id": "f01af0a0",
   "metadata": {},
   "outputs": [],
   "source": [
    "# build an emulator for the gravity simulation\n",
    "emu_grav_1 = emulator(x=xtot, theta=theta_grav, f=f_grav, method='PCGP')\n",
    "\n",
    "# build an emulator for the quadratic simulation\n",
    "emu_quad_1 = emulator(x=xtot, theta=theta_quad, f=f_quad, method='PCGP') "
   ]
  },
  {
   "cell_type": "markdown",
   "id": "b4f07a33",
   "metadata": {},
   "source": [
    "## Comparison of emulation and models \n",
    "\n",
    "Let's first generate random draws of parameters, and evaluate the computer model at those values."
   ]
  },
  {
   "cell_type": "code",
   "execution_count": 18,
   "id": "8c313540",
   "metadata": {},
   "outputs": [],
   "source": [
    "# (Test) draw 50 random parameters from the prior\n",
    "theta_grav_test = priorphys_grav.rnd(50) \n",
    "\n",
    "# (Test) draw 50 random parameters from the prior\n",
    "theta_quad_test = priorphys_quad.rnd(50)  \n",
    "\n",
    "# (Test) the value of the gravity simulation\n",
    "f_grav_test = balldropmodel_grav(xtotv, theta_grav_test)  \n",
    "\n",
    "# (Test) the value of the linear simulation\n",
    "f_quad_test = balldropmodel_quad(xtotv, theta_quad_test, phi) "
   ]
  },
  {
   "cell_type": "code",
   "execution_count": 19,
   "id": "bfddf88d",
   "metadata": {},
   "outputs": [],
   "source": [
    "## Printing things to check\n",
    "#print(\"\\n First: \\n \\n\", theta_grav_test)\n",
    "#print(\"\\n Second: \\n \\n\", theta_quad_test)\n",
    "#print(theta_quad_test[:, 0:2])"
   ]
  },
  {
   "cell_type": "markdown",
   "id": "5d7c7689",
   "metadata": {},
   "source": [
    "Then, let's get the predict object of the emulator for the hold-out data:"
   ]
  },
  {
   "cell_type": "code",
   "execution_count": 20,
   "id": "9e5eb52d",
   "metadata": {},
   "outputs": [],
   "source": [
    "pred_grav_1 = emu_grav_1.predict(x=xtot, theta=theta_grav_test)\n",
    "pred_quad_1 = emu_quad_1.predict(x=xtot, theta=theta_quad_test)"
   ]
  },
  {
   "cell_type": "code",
   "execution_count": 21,
   "id": "f5c11101",
   "metadata": {},
   "outputs": [],
   "source": [
    "## printing things to check\n",
    "#print(pred_grav_1)\n",
    "#print(pred_quad_1)\n",
    "#help(emu_grav_1.predict)"
   ]
  },
  {
   "cell_type": "code",
   "execution_count": 22,
   "id": "924b975c",
   "metadata": {
    "scrolled": true
   },
   "outputs": [],
   "source": [
    "# get the prediction means and variances\n",
    "pred_grav_1_m, pred_grav_1_var = pred_grav_1.mean(), pred_grav_1.var()\n",
    "pred_quad_1_m, pred_quad_1_var = pred_quad_1.mean(), pred_quad_1.var()"
   ]
  },
  {
   "cell_type": "code",
   "execution_count": 23,
   "id": "a8f2da68",
   "metadata": {},
   "outputs": [],
   "source": [
    "##printing things to check\n",
    "#print(\"\\n First: \\n \\n\", pred_grav_1_m)\n",
    "#print(\"\\n Second: \\n \\n\", pred_quad_1_var)"
   ]
  },
  {
   "cell_type": "markdown",
   "id": "90db3032",
   "metadata": {},
   "source": [
    "Finally, let's observe the sum of squared deviations between the prediction means and the simulated output:"
   ]
  },
  {
   "cell_type": "code",
   "execution_count": 24,
   "id": "3b2cbd12",
   "metadata": {},
   "outputs": [
    {
     "name": "stdout",
     "output_type": "stream",
     "text": [
      "Rsq PCGP =  0.99\n",
      "SSE PCGP =  627.61\n",
      "Rsq PCGP =  1.0\n",
      "SSE PCGP =  327.85\n"
     ]
    }
   ],
   "source": [
    "print('Rsq PCGP = ', np.round(1 - np.sum(np.square(pred_quad_1_m - f_quad_test))/np.sum(np.square(f_quad_test.T - np.mean(f_quad_test, axis = 1))), 2))\n",
    "print('SSE PCGP = ', np.round(np.sum(np.square(pred_quad_1_m - f_quad_test)), 2))\n",
    "\n",
    "print('Rsq PCGP = ', np.round(1 - np.sum(np.square(pred_grav_1_m - f_grav_test))/np.sum(np.square(f_grav_test.T - np.mean(f_grav_test, axis = 1))), 2))\n",
    "print('SSE PCGP = ', np.round(np.sum(np.square(pred_grav_1_m - f_grav_test)), 2))"
   ]
  },
  {
   "cell_type": "code",
   "execution_count": null,
   "id": "c0208eb2",
   "metadata": {},
   "outputs": [],
   "source": []
  }
 ],
 "metadata": {
  "kernelspec": {
   "display_name": "Python 3",
   "language": "python",
   "name": "python3"
  },
  "language_info": {
   "codemirror_mode": {
    "name": "ipython",
    "version": 3
   },
   "file_extension": ".py",
   "mimetype": "text/x-python",
   "name": "python",
   "nbconvert_exporter": "python",
   "pygments_lexer": "ipython3",
   "version": "3.8.8"
  }
 },
 "nbformat": 4,
 "nbformat_minor": 5
}
