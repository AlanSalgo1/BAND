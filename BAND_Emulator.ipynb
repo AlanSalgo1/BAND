{
 "cells": [
  {
   "cell_type": "markdown",
   "id": "925dab3d",
   "metadata": {},
   "source": [
    "## BAND Framework Toy Model: Ball Drop\n",
    "\n",
    "### Part 1: Emulation\n",
    "\n",
    "This is Alan's version of [Surmise's Example 1](https://nbviewer.jupyter.org/github/surmising/surmise/blob/master/examples/Example1/Example1_nb.ipynb). In this example, we will emulate the results from two different **Ball Drop models**: turning on and off the drag force (quadratic). \n",
    "\n",
    "First, we import the required libraries"
   ]
  },
  {
   "cell_type": "code",
   "execution_count": 1,
   "id": "452f5b85",
   "metadata": {},
   "outputs": [],
   "source": [
    "import numpy as np \n",
    "import scipy.stats as sps     #Do I need to have scipy installed? Yes.\n",
    "import matplotlib.pyplot as plt\n",
    "\n",
    "from emulation import emulator # Import an emulator which I should write/understand"
   ]
  },
  {
   "cell_type": "markdown",
   "id": "50f0022d",
   "metadata": {},
   "source": [
    "### Models\n",
    "\n",
    "The height of a large falling ball from a tower is recorded at different times until it reaches the ground. The same phenomenon is described by two different models.\n",
    "\n",
    "\n",
    "#### Model 1 ($M_{1}$)\n",
    "\n",
    "We describe the falling ball without drag force. Here, the gravitational force causes the object to have acceleration g downward. The height is given by *$h = h_{0} - \\frac{1}{2}gt^{2}$* where $h_{0}$ is the initial height and $t$ is the time to reach $h$. The inputs used are:\n",
    "\n",
    "- time $t$,\n",
    "- initial height $h_{0}$, and\n",
    "- gravity $g$.\n",
    "\n",
    "For the next function, we use $x = (t, h_{0})$ and $\\theta = g$; $f$ represents the model outputs."
   ]
  },
  {
   "cell_type": "code",
   "execution_count": 2,
   "id": "9553a487",
   "metadata": {},
   "outputs": [],
   "source": [
    "def balldropmodel_grav(x, theta):\n",
    "    f = np.zeros((theta.shape[0],x.shape[0]))\n",
    "    for k in range(0, theta.shape[0]):\n",
    "        t = x[:, 0]\n",
    "        h0 = x[:, 1]\n",
    "        g = theta[k]\n",
    "        f[k, :] = h0 - (g / 2) * (t ** 2)\n",
    "    return f.T\n",
    "\n",
    "#Playing around, checking outputs, and how to arrange inputs:\n",
    "\n",
    "#x = np.array([[1,10],[1,40], [1,8]])\n",
    "#theta = np.array([9.8, 10])\n",
    "#h = balldropmodel_grav(x, theta)\n",
    "#print(h)"
   ]
  },
  {
   "cell_type": "markdown",
   "id": "b15f84ff",
   "metadata": {},
   "source": [
    "### Model 2 ($M_{2}$)\n",
    "\n",
    "$M_{2}$ here is different from that in the [surmise](https://nbviewer.jupyter.org/github/surmising/surmise/blob/master/examples/Example1/Example1_nb.ipynb) example. Surmise uses a drag force that is linear with the drag coefficient. Here, we'll use the quadratic drag force of ball drop in accordance with the [BAND Manifesto](https://arxiv.org/abs/2012.07704).\n",
    "\n",
    "When $t$ is large enough, we can approximate $h$ as a straight line: $h = h_{0} + v_{ter}t + ¿c?$. We will use the following inputs:\n",
    "\n",
    "- time $t$,\n",
    "- drag coefficient $\\gamma$,\n",
    "- gravity $g$,\n",
    "- ball's diameter $D$,\n",
    "- ball's mass $m$, and \n",
    "- initial height $h_{0}$.\n",
    "\n",
    "Here $x = (t, h_{0})$ and $\\theta = (g, \\gamma, m, D)$; $f$ represents the model outputs. \n",
    "\n",
    "${\\bf Questions:}$ what is the constant c?"
   ]
  },
  {
   "cell_type": "code",
   "execution_count": 3,
   "id": "1c97e6a2",
   "metadata": {},
   "outputs": [],
   "source": [
    "def balldropmodel_quad(x, theta):\n",
    "    f = np.zeros((theta.shape[0], x.shape[0]))\n",
    "    for k in range(0, theta.shape[0]):\n",
    "        t = x[:, 0]\n",
    "        h0 = x[:, 1]\n",
    "        g = theta[k, 0]\n",
    "        gamma = theta[:, 1]\n",
    "        m = theta[:, 2]\n",
    "        D = theta[:, 3]\n",
    "        c = gamma[k]*(D[k]**2)\n",
    "        vter = np.sqrt(m[k] * (g/c))\n",
    "        \n",
    "        if gamma[k] > 0.0 :\n",
    "            f[k, :] = h0 - ((vter**2)/g)*np.log(np.cosh(g*t/vter))\n",
    "        else :\n",
    "            f[k, :] = balldropmodel_grav(x, theta)\n",
    "    return f.T\n",
    "\n",
    "#Playing around, checking outputs, and how to arrange inputs:\n",
    "\n",
    "#x = np.array([[1,10],[1,40]])\n",
    "#theta = np.array([[9.8, 0.002, 1, 1], [9.8, 0.001, 1, 1]])\n",
    "#h = balldropmodel_quad(x, theta)\n",
    "#print(h)\n",
    "\n",
    "#It works and agrees with M1 in the limit gamma -> 0."
   ]
  },
  {
   "cell_type": "markdown",
   "id": "33dd2b58",
   "metadata": {},
   "source": [
    "Let me now implement the previous models in the same input space as the Surmise code uses. i.e. on an input grid $t \\in [0.1,4.2]$ and $h_{0} \\in \\{25,50\\}$."
   ]
  },
  {
   "cell_type": "code",
   "execution_count": 4,
   "id": "38d2fc78",
   "metadata": {},
   "outputs": [
    {
     "name": "stdout",
     "output_type": "stream",
     "text": [
      "(84, 2)\n"
     ]
    }
   ],
   "source": [
    "# the time vector of interest\n",
    "tvec = np.concatenate((np.arange(0.1, 4.3, 0.1), np.arange(0.1, 4.3, 0.1)))\n",
    "#print(tvec)\n",
    "\n",
    "# the drop heights vector of interest\n",
    "h0vec = np.concatenate((25 * np.ones(42), 50 * np.ones(42)))  \n",
    "\n",
    "# the input of interest\n",
    "xtot = (np.vstack((tvec, h0vec)).T).astype('object')\n",
    "#print(xtot)\n",
    "\n",
    "xtotv = xtot.astype('float')\n",
    "xtot[xtot[:,1] == 25, 1] = 'lowdrop'\n",
    "xtot[xtot[:,1] == 50, 1] = 'highdrop'\n",
    "#print(xtot)\n",
    "\n",
    "print(np.shape(xtot))\n",
    "\n"
   ]
  },
  {
   "cell_type": "markdown",
   "id": "6ed6c4c9",
   "metadata": {},
   "source": [
    "\n",
    "### Prior specification\n",
    "\n",
    "Typically, the researchers have a prior knowledge about the unknown parameters in the form of a prior distribution.\n",
    "\n",
    "In $M_{1}$, we assume \n",
    "\n",
    "- $g$ is gamma-distributed random variable with shape $\\alpha$, location $\\mu$ and rate $\\beta$ parameters such that $g$ $\\sim$ $\\Gamma (\\alpha,\\mu,\\beta)$ with $\\alpha$ = 2, $\\mu$ = 0, $\\beta$ = 5.\n",
    "\n",
    "In $M_{2}$, we assume \n",
    "\n",
    "-  $g$ has a gamma distribution with shape $\\alpha$, location $\\mu$ and rate $\\beta$ parameters such that $v_{ter}$ $\\sim$ $\\Gamma (\\alpha,\\mu,\\beta)$ with \\$\\alpha$ = 2, $\\mu$ = 0, $\\beta$ = 5,\n",
    "\n",
    "-  $\\gamma$ has a gamma distribution with shape $\\alpha$, location $\\mu$ and rate $\\beta$ parameters such that $\\gamma$ $\\sim$ $\\Gamma (\\alpha,\\mu,\\beta)$ with $\\alpha$ = 2, $\\mu$ = 0, $\\beta$ = 5."
   ]
  },
  {
   "cell_type": "code",
   "execution_count": 5,
   "id": "3980c937",
   "metadata": {},
   "outputs": [],
   "source": [
    "class priorphys_grav:\n",
    "    \"\"\" This defines the class instance of priors provided to the method. \"\"\"\n",
    "    def lpdf(theta):\n",
    "        return (sps.gamma.logpdf(theta[:, 0], 2, 0, 5)).reshape((len(theta), 1))\n",
    "    \n",
    "    def rnd(n):\n",
    "        return np.reshape(sps.gamma.rvs(2, 0, 5, size=n), (-1, 1))  # gravity"
   ]
  },
  {
   "cell_type": "code",
   "execution_count": 6,
   "id": "a685e992",
   "metadata": {},
   "outputs": [],
   "source": [
    "class priorphys_quad:\n",
    "    \"\"\" This defines the class instance of priors provided to the method. \"\"\"\n",
    "    def lpdf(theta):\n",
    "        return (sps.gamma.logpdf(theta[:, 0], 2, 0, 5), #gravity\n",
    "                sps.norm.logpdf(theta[:, 1], 0, 5)).reshape((len(theta), 1))   # gamma\n",
    "\n",
    "\n",
    "    def rnd(n, m, D):\n",
    "        return np.vstack((sps.gamma.rvs(2, 0, 5, size=n),  # gravity\n",
    "                          sps.gamma.rvs(2, 0, 0.5, size=n), m * sps.gamma.rvs(2, 0, 0.5, size=n), \n",
    "                          D * sps.gamma.rvs(2, 0, 0.5, size=n))).T  # gamma\n",
    "    \n",
    "    #Distributions for m and D were used to get rid of the nan output. We may change then again to constants. "
   ]
  },
  {
   "cell_type": "code",
   "execution_count": 7,
   "id": "596df96c",
   "metadata": {},
   "outputs": [
    {
     "name": "stdout",
     "output_type": "stream",
     "text": [
      "Distribution mean:  10.0 \n",
      "Distribution median:  8.391734950083306\n"
     ]
    },
    {
     "data": {
      "image/png": "[encoded data removed]",
      "text/plain": [
       "<Figure size 1080x360 with 1 Axes>"
      ]
     },
     "metadata": {
      "needs_background": "light"
     },
     "output_type": "display_data"
    }
   ],
   "source": [
    "#Plotting the distribitions:\n",
    "\n",
    "def dist_stuff(dist):\n",
    "    \"\"\"\n",
    "    Finds the median, mean, and 68%/95% credible intervals for the given \n",
    "    1-d distribution (which is an object from scipy.stats).  \n",
    "    \"\"\"\n",
    "    # For x = median, mean: return x and the value of the pdf at x as a list\n",
    "    median = [dist.median(), dist.pdf(dist.median())]  \n",
    "    mean = [dist.mean(), dist.pdf(dist.mean())]\n",
    "    # The left and right limits of the credibility interval are returned\n",
    "    cred68 = dist.interval(0.68)\n",
    "    cred95 = dist.interval(0.95)\n",
    "    return median, mean, cred68, cred95\n",
    "\n",
    "def dist_mode(dist, x):\n",
    "    \"\"\"\n",
    "    Return the mode (maximum) of the 1-d distribution for array x.\n",
    "    \"\"\"\n",
    "    x_max_index = dist.pdf(x).argmax()\n",
    "    # Return x of the maximum and the value of the pdf at that x \n",
    "    mode = [x[x_max_index], dist.pdf(x[x_max_index])]\n",
    "    return mode\n",
    "\n",
    "def dist_plot(ax, dist_label, x_dist, dist, color='blue'):\n",
    "    \"\"\"\n",
    "    Plot the distribution, indicating median, mean, mode\n",
    "    and 68%/95% probability intervals on the axis that is passed.\n",
    "    \"\"\"\n",
    "    median, mean, cred68, cred95 = dist_stuff(dist)\n",
    "    mode = dist_mode(dist, x_dist)\n",
    "    \n",
    "    ax.plot(x_dist, dist.pdf(x_dist), label=dist_label, color=color)    \n",
    "    ax.set_xlabel('x')\n",
    "    ax.set_ylabel('p(x)')\n",
    "    \n",
    "    # Point to the median, mode, and mean with arrows (adjusting the spacing)\n",
    "    text_x = 0.2*(x_dist[-1] - x_dist[0])\n",
    "    text_x_mid = (x_dist[-1] + x_dist[0]) / 2.\n",
    "    text_y = mode[1]*1.15\n",
    "    ax.annotate('median', xy=median, xytext=(text_x_mid+text_x, text_y),\n",
    "                arrowprops=dict(facecolor='black', shrink=0.05))\n",
    "    ax.annotate('mode', xy=mode, xytext=(text_x_mid-text_x, text_y),\n",
    "                arrowprops=dict(facecolor='red', shrink=0.05))\n",
    "    ax.annotate('mean', xy=mean, xytext=(text_x_mid, text_y),\n",
    "                arrowprops=dict(facecolor='blue', shrink=0.05))\n",
    "    \n",
    "    # Mark the credible intervals using shading (with appropriate alpha)\n",
    "    ax.fill_between(x_dist, 0, dist.pdf(x_dist), \n",
    "                    where=((x_dist > cred68[0]) & (x_dist < cred68[1])), \n",
    "                    facecolor='blue', alpha=0.2)\n",
    "    ax.fill_between(x_dist, 0, dist.pdf(x_dist), \n",
    "                    where=((x_dist > cred95[0]) & (x_dist < cred95[1])), \n",
    "                    facecolor='blue', alpha=0.1)\n",
    "    \n",
    "    ax.legend();\n",
    "\n",
    "# Make some standard plots: normal, gamma\n",
    "fig = plt.figure(figsize=(15,5))\n",
    "    \n",
    "# gamma distribution, characterized by a, m, and b parameters\n",
    "x_gamma = np.linspace(-0.1, 40.1, 500)  # beta ranges from 0 to 1 \n",
    "a = 2\n",
    "m = 0\n",
    "b = 5\n",
    "gamma_dist = sps.gamma(a,m, b)  # the gamma distribution from scipy.stats\n",
    "gamma1_label='gamma pdf' + '\\n' + rf'$\\alpha=${a:1.1f}' \\\n",
    "              + '\\n' + rf'$\\mu=${m:1.1f}' \\\n",
    "              + '\\n' + rf'$\\beta=${b:1.1f}'\n",
    "ax2 = fig.add_subplot(1,3,2)\n",
    "dist_plot(ax2, gamma1_label, x_gamma, gamma_dist)\n",
    "\n",
    "print(\"Distribution mean: \", gamma_dist.mean(), \\\n",
    "      \"\\nDistribution median: \", gamma_dist.median())"
   ]
  },
  {
   "cell_type": "markdown",
   "id": "2f1cdff8",
   "metadata": {},
   "source": [
    "Now, we draw 50 random parameters."
   ]
  },
  {
   "cell_type": "code",
   "execution_count": 8,
   "id": "fddfb92f",
   "metadata": {},
   "outputs": [
    {
     "name": "stdout",
     "output_type": "stream",
     "text": [
      "(50, 1)\n",
      "(50, 4)\n"
     ]
    }
   ],
   "source": [
    "# draw 50 random parameters from the prior\n",
    "theta_grav = priorphys_grav.rnd(50) \n",
    "print(np.shape(theta_grav))\n",
    "#print(theta_grav)\n",
    "\n",
    "# draw 50 random parameters from the prior\n",
    "m = 1\n",
    "D = 1\n",
    "theta_quad = priorphys_quad.rnd(50, m, D) #Last two entries are m and D all ones!\n",
    "print(np.shape(theta_quad))\n",
    "\n",
    "#printing things to check\n",
    "#print(theta_quad)"
   ]
  },
  {
   "cell_type": "markdown",
   "id": "ccaed596",
   "metadata": {},
   "source": [
    "Let's evaluate the computer models $M_{1}$ and $M_{2}$ at those random points generated above, and obtain $m \\times n$ computer model output matrix ${\\bf f}$."
   ]
  },
  {
   "cell_type": "code",
   "execution_count": 9,
   "id": "a906778c",
   "metadata": {},
   "outputs": [
    {
     "name": "stdout",
     "output_type": "stream",
     "text": [
      "(84, 50)\n",
      "(84, 50)\n"
     ]
    }
   ],
   "source": [
    "# create a computer experiment to build an emulator for the gravity simulation\n",
    "f_grav = balldropmodel_grav(xtotv, theta_grav)  \n",
    "print(np.shape(f_grav))\n",
    "\n",
    "# create a computer experiment to build an emulator for the linear simulation\n",
    "f_quad = balldropmodel_quad(xtotv, theta_quad) \n",
    "print(np.shape(f_quad))\n",
    "\n",
    "#printing things to check\n",
    "#print(\"\\n First: \\n \\n\", f_grav)\n",
    "#print(\"\\n Second: \\n \\n \", f_quad)\n",
    "#print(f_quad.ndim)\n",
    "#print(theta_quad.ndim)\n",
    "#print(xtot.ndim)"
   ]
  },
  {
   "cell_type": "markdown",
   "id": "bd4e42b2",
   "metadata": {},
   "source": [
    "## Model emulation\n",
    "\n",
    "Now, we will emulate the models $M_{1}$ and $M_{2}$. We will use PCGP.\n",
    "\n",
    "##### Comment to discuss:\n",
    "\n",
    "I had to fix theta_quad ad hoc here to take only the 2 parameters but shouldn't the code be able to handle as many given parameters? ${\\bf Fixed}$ answered in the next comment."
   ]
  },
  {
   "cell_type": "code",
   "execution_count": 10,
   "id": "f01af0a0",
   "metadata": {},
   "outputs": [],
   "source": [
    "# build an emulator for the quadratic simulation\n",
    "emu_quad_1 = emulator(x=xtot, theta=theta_quad, f=f_quad, method='PCGP') \n",
    "\n",
    "\n",
    "# build an emulator for the gravity simulation\n",
    "emu_grav_1 = emulator(x=xtot, theta=theta_grav, f=f_grav, method='PCGP')\n",
    "\n",
    "##printing things to check\n",
    "#print(emu_quad_1)"
   ]
  },
  {
   "cell_type": "markdown",
   "id": "b4f07a33",
   "metadata": {},
   "source": [
    "## Comparison of emulation and models \n",
    "\n",
    "Let's first generate random draws of parameters, and evaluate the computer model at those values."
   ]
  },
  {
   "cell_type": "code",
   "execution_count": 11,
   "id": "8c313540",
   "metadata": {},
   "outputs": [],
   "source": [
    "# (Test) draw 50 random parameters from the prior\n",
    "theta_grav_test = priorphys_grav.rnd(50) \n",
    "\n",
    "# (Test) draw 50 random parameters from the prior\n",
    "theta_quad_test = priorphys_quad.rnd(50, m, D)  \n",
    "\n",
    "# (Test) the value of the gravity simulation\n",
    "f_grav_test = balldropmodel_grav(xtotv, theta_grav_test)  \n",
    "\n",
    "# (Test) the value of the linear simulation\n",
    "f_quad_test = balldropmodel_quad(xtotv, theta_quad_test) \n",
    "\n",
    "## Printing things to check\n",
    "#print(\"\\n First: \\n \\n\", theta_grav_test)\n",
    "#print(\"\\n Second: \\n \\n\", theta_quad_test)\n",
    "#print(theta_quad_test[:, 0:2])"
   ]
  },
  {
   "cell_type": "markdown",
   "id": "5d7c7689",
   "metadata": {},
   "source": [
    "Then, let's get the predict object of the emulator for the hold-out data:"
   ]
  },
  {
   "cell_type": "code",
   "execution_count": 12,
   "id": "9e5eb52d",
   "metadata": {},
   "outputs": [],
   "source": [
    "pred_grav_1 = emu_grav_1.predict(x=xtot, theta=theta_grav_test)\n",
    "pred_quad_1 = emu_quad_1.predict(x=xtot, theta=theta_quad_test)\n",
    "\n",
    "## printing things to check\n",
    "#print(pred_quad_1)"
   ]
  },
  {
   "cell_type": "code",
   "execution_count": 13,
   "id": "924b975c",
   "metadata": {},
   "outputs": [
    {
     "name": "stdout",
     "output_type": "stream",
     "text": [
      "\n",
      " Second: \n",
      " \n",
      " [[1.32645984e-04 2.12289056e-04 1.05642746e-04 ... 1.19940676e-04\n",
      "  1.06606687e-04 5.59363049e-04]\n",
      " [1.71248630e-03 2.93254496e-03 1.35213589e-03 ... 1.55572399e-03\n",
      "  1.36623384e-03 7.15730361e-03]\n",
      " [7.12489754e-03 1.31152585e-02 5.51451347e-03 ... 6.45241736e-03\n",
      "  5.59698564e-03 3.00463251e-02]\n",
      " ...\n",
      " [3.23924011e+01 7.76162645e+01 2.06682679e+01 ... 2.69970734e+01\n",
      "  2.18839433e+01 1.74623094e+02]\n",
      " [3.50504173e+01 8.34749151e+01 2.24578612e+01 ... 2.92499176e+01\n",
      "  2.37561116e+01 1.88284055e+02]\n",
      " [3.78514938e+01 8.96048327e+01 2.43514088e+01 ... 3.16267139e+01\n",
      "  2.57354203e+01 2.02623785e+02]]\n"
     ]
    }
   ],
   "source": [
    "# get the prediction means and variances\n",
    "pred_quad_1_m, pred_quad_1_var = pred_quad_1.mean(), pred_quad_1.var()\n",
    "pred_grav_1_m, pred_grav_1_var = pred_grav_1.mean(), pred_grav_1.var()\n",
    "\n",
    "##printing things to check\n",
    "#print(\"\\n First: \\n \\n\", pred_grav_1_m)\n",
    "print(\"\\n Second: \\n \\n\", pred_quad_1_var)"
   ]
  },
  {
   "cell_type": "markdown",
   "id": "de98d316",
   "metadata": {},
   "source": [
    "${\\bf Comment: }$ Nan dissapeared when I included a distribution for the mass (m) and diameter (D). I believe the issue of calculating mean and var had to do with m and D being constant. The emulator does handle more than 2 parameters. "
   ]
  },
  {
   "cell_type": "markdown",
   "id": "90db3032",
   "metadata": {},
   "source": [
    "Finally, let's observe the sum of squared deviations between the prediction means and the simulated output:"
   ]
  },
  {
   "cell_type": "code",
   "execution_count": 14,
   "id": "3b2cbd12",
   "metadata": {},
   "outputs": [
    {
     "name": "stdout",
     "output_type": "stream",
     "text": [
      "Rsq PCGP =  0.87\n",
      "SSE PCGP =  85504.33\n",
      "Rsq PCGP =  1.0\n",
      "SSE PCGP =  44.27\n"
     ]
    }
   ],
   "source": [
    "print('Rsq PCGP = ', np.round(1 - np.sum(np.square(pred_quad_1_m - f_quad_test))/np.sum(np.square(f_quad_test.T - np.mean(f_quad_test, axis = 1))), 2))\n",
    "print('SSE PCGP = ', np.round(np.sum(np.square(pred_quad_1_m - f_quad_test)), 2))\n",
    "\n",
    "print('Rsq PCGP = ', np.round(1 - np.sum(np.square(pred_grav_1_m - f_grav_test))/np.sum(np.square(f_grav_test.T - np.mean(f_grav_test, axis = 1))), 2))\n",
    "print('SSE PCGP = ', np.round(np.sum(np.square(pred_grav_1_m - f_grav_test)), 2))"
   ]
  },
  {
   "cell_type": "code",
   "execution_count": null,
   "id": "ba5a9393",
   "metadata": {},
   "outputs": [],
   "source": []
  }
 ],
 "metadata": {
  "kernelspec": {
   "display_name": "Python 3",
   "language": "python",
   "name": "python3"
  },
  "language_info": {
   "codemirror_mode": {
    "name": "ipython",
    "version": 3
   },
   "file_extension": ".py",
   "mimetype": "text/x-python",
   "name": "python",
   "nbconvert_exporter": "python",
   "pygments_lexer": "ipython3",
   "version": "3.8.8"
  }
 },
 "nbformat": 4,
 "nbformat_minor": 5
}
