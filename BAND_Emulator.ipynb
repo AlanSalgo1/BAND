{
 "cells": [
  {
   "cell_type": "markdown",
   "id": "925dab3d",
   "metadata": {},
   "source": [
    "## BAND Framework Toy Model: Ball Drop\n",
    "\n",
    "### Part 1: Emulation\n",
    "\n",
    "This is Alan's version of [Surmise's Example 1](https://nbviewer.jupyter.org/github/surmising/surmise/blob/master/examples/Example1/Example1_nb.ipynb). In this example, we will emulate the results from two different **Ball Drop models**: turning on and off the drag force (quadratic). \n",
    "\n",
    "First, we import the required libraries."
   ]
  },
  {
   "cell_type": "code",
   "execution_count": 31,
   "id": "452f5b85",
   "metadata": {},
   "outputs": [],
   "source": [
    "import numpy as np \n",
    "import scipy.stats as sps     #Do I need to have scipy installed? Yes.\n",
    "import matplotlib.pyplot as plt\n",
    "\n",
    "from emulation import emulator # Import an emulator which I should write/understand"
   ]
  },
  {
   "cell_type": "markdown",
   "id": "50f0022d",
   "metadata": {},
   "source": [
    "### Models\n",
    "\n",
    "The height of a large falling ball from a tower is recorded at different times until it reaches the ground. The same phenomenon is described by two different models.\n",
    "\n",
    "\n",
    "#### Model 1 ($M_{1}$)\n",
    "\n",
    "We describe the falling ball without drag force. Here, the gravitational force causes the object to have acceleration g downward. The height is given by *$h = h_{0} - \\frac{1}{2}gt^{2}$* where $h_{0}$ is the initial height and $t$ is the time to reach $h$. The inputs used are:\n",
    "\n",
    "- time $t$,\n",
    "- initial height $h_{0}$, and\n",
    "- gravity $g$.\n",
    "\n",
    "For the next function, we use $x = (t, h_{0})$ and $\\theta = g$; $f$ represents the model outputs."
   ]
  },
  {
   "cell_type": "code",
   "execution_count": 32,
   "id": "9553a487",
   "metadata": {},
   "outputs": [],
   "source": [
    "def balldropmodel_grav(x, theta):\n",
    "    f = np.zeros((theta.shape[0],x.shape[0]))\n",
    "    for k in range(0, theta.shape[0]):\n",
    "        t = x[:, 0]\n",
    "        h0 = x[:, 1]\n",
    "        g = theta[k]\n",
    "        f[k, :] = h0 - (g / 2) * (t ** 2)\n",
    "    return f.T\n",
    "\n",
    "#Playing around, checking outputs, and how to arrange inputs:\n",
    "\n",
    "#x = np.array([[1,10],[1,40], [1,8]])\n",
    "#theta = np.array([9.8, 10])\n",
    "#h = balldropmodel_grav(x, theta)\n",
    "#print(h)"
   ]
  },
  {
   "cell_type": "markdown",
   "id": "b15f84ff",
   "metadata": {},
   "source": [
    "### Model 2 ($M_{2}$)\n",
    "\n",
    "$M_{2}$ here is different from that in the [surmise](https://nbviewer.jupyter.org/github/surmising/surmise/blob/master/examples/Example1/Example1_nb.ipynb) example. Surmise uses a drag force that is linear with the drag coefficient. Here, we'll use the quadratic drag force of ball drop in accordance with the [BAND Manifesto](https://arxiv.org/abs/2012.07704).\n",
    "\n",
    "When $t$ is large enough, we can approximate $h$ as a straight line: $h = h_{0} + v_{ter}t + ¿c?$. We will use the following inputs:\n",
    "\n",
    "- time $t$,\n",
    "- drag coefficient $\\gamma$,\n",
    "- gravity $g$,\n",
    "- ball's diameter $D$,\n",
    "- ball's mass $m$, and \n",
    "- initial height $h_{0}$.\n",
    "\n",
    "Here $x = (t, h_{0})$ and $\\theta = (g, \\gamma, m, D)$; $f$ represents the model outputs. \n",
    "\n",
    "${\\bf Questions:}$ what is the constant c?"
   ]
  },
  {
   "cell_type": "code",
   "execution_count": 33,
   "id": "1c97e6a2",
   "metadata": {},
   "outputs": [],
   "source": [
    "def balldropmodel_quad(x, theta):\n",
    "    f = np.zeros((theta.shape[0], x.shape[0]))\n",
    "    for k in range(0, theta.shape[0]):\n",
    "        t = x[:, 0]\n",
    "        h0 = x[:, 1]\n",
    "        g = theta[k, 0]\n",
    "        gamma = theta[:, 1]\n",
    "        m = theta[:, 2]\n",
    "        D = theta[:, 3]\n",
    "        c = gamma[k]*(D[k]**2)\n",
    "        vter = np.sqrt(m[k] * (g/c))\n",
    "        \n",
    "        if gamma[k] > 0.0 :\n",
    "            f[k, :] = h0 - ((vter**2)/g)*np.log(np.cosh(g*t/vter))\n",
    "        else :\n",
    "            f[k, :] = balldropmodel_grav(x, theta)\n",
    "    return f.T\n",
    "\n",
    "#Playing around, checking outputs, and how to arrange inputs:\n",
    "\n",
    "#x = np.array([[1,10],[1,40]])\n",
    "#theta = np.array([[9.8, 0.002, 1, 1], [9.8, 0.001, 1, 1]])\n",
    "#h = balldropmodel_quad(x, theta)\n",
    "#print(h)\n",
    "\n",
    "#It works and agrees with M1 in the limit gamma -> 0."
   ]
  },
  {
   "cell_type": "markdown",
   "id": "33dd2b58",
   "metadata": {},
   "source": [
    "Let me now implement the previous models in the same input space as the Surmise code uses. i.e. on an input grid $t \\in [0.1,4.2]$ and $h_{0} \\in \\{25,50\\}$."
   ]
  },
  {
   "cell_type": "code",
   "execution_count": 34,
   "id": "38d2fc78",
   "metadata": {},
   "outputs": [
    {
     "name": "stdout",
     "output_type": "stream",
     "text": [
      "(84, 2)\n"
     ]
    }
   ],
   "source": [
    "# the time vector of interest\n",
    "tvec = np.concatenate((np.arange(0.1, 4.3, 0.1), np.arange(0.1, 4.3, 0.1)))\n",
    "#print(tvec)\n",
    "\n",
    "# the drop heights vector of interest\n",
    "h0vec = np.concatenate((25 * np.ones(42), 50 * np.ones(42)))  \n",
    "\n",
    "# the input of interest\n",
    "xtot = (np.vstack((tvec, h0vec)).T).astype('object')\n",
    "#print(xtot)\n",
    "\n",
    "xtotv = xtot.astype('float')\n",
    "xtot[xtot[:,1] == 25, 1] = 'lowdrop'\n",
    "xtot[xtot[:,1] == 50, 1] = 'highdrop'\n",
    "#print(xtot)\n",
    "\n",
    "print(np.shape(xtot))\n",
    "\n"
   ]
  },
  {
   "cell_type": "markdown",
   "id": "6ed6c4c9",
   "metadata": {},
   "source": [
    "\n",
    "### Prior specification\n",
    "\n",
    "Typically, the researchers have a prior knowledge about the unknown parameters in the form of a prior distribution.\n",
    "\n",
    "In $M_{1}$, we assume \n",
    "\n",
    "- $g$ is gamma-distributed random variable with shape $\\alpha$, location $\\mu$ and rate $\\beta$ parameters such that $g$ $\\sim$ $\\Gamma (\\alpha,\\mu,\\beta)$ with $\\alpha$ = 2, $\\mu$ = 0, $\\beta$ = 5.\n",
    "\n",
    "In $M_{2}$, we assume \n",
    "\n",
    "-  $g$ has a gamma distribution with shape $\\alpha$, location $\\mu$ and rate $\\beta$ parameters such that $v_{ter}$ $\\sim$ $\\Gamma (\\alpha,\\mu,\\beta)$ with \\$\\alpha$ = 2, $\\mu$ = 0, $\\beta$ = 5,\n",
    "\n",
    "-  $\\gamma$ has a gamma distribution with shape $\\alpha$, location $\\mu$ and rate $\\beta$ parameters such that $\\gamma$ $\\sim$ $\\Gamma (\\alpha,\\mu,\\beta)$ with $\\alpha$ = 2, $\\mu$ = 0, $\\beta$ = 5."
   ]
  },
  {
   "cell_type": "code",
   "execution_count": 35,
   "id": "3980c937",
   "metadata": {},
   "outputs": [],
   "source": [
    "class priorphys_grav:\n",
    "    \"\"\" This defines the class instance of priors provided to the method. \"\"\"\n",
    "    def lpdf(theta):\n",
    "        return (sps.gamma.logpdf(theta[:, 0], 2, 0, 5)).reshape((len(theta), 1))\n",
    "    \n",
    "    def rnd(n):\n",
    "        return np.reshape(sps.gamma.rvs(2, 0, 5, size=n), (-1, 1))  # gravity"
   ]
  },
  {
   "cell_type": "code",
   "execution_count": 36,
   "id": "a685e992",
   "metadata": {},
   "outputs": [],
   "source": [
    "class priorphys_quad:\n",
    "    \"\"\" This defines the class instance of priors provided to the method. \"\"\"\n",
    "    def lpdf(theta):\n",
    "        return (sps.gamma.logpdf(theta[:, 0], 2, 0, 5), #gravity\n",
    "                sps.norm.logpdf(theta[:, 1], 0, 5)).reshape((len(theta), 1))   # gamma\n",
    "\n",
    "\n",
    "    def rnd(n, m, D):\n",
    "        return np.vstack((sps.gamma.rvs(2, 0, 5, size=n),  # gravity\n",
    "                          sps.gamma.rvs(2, 0, 0.5, size=n), m * np.ones(50), D * np.ones(50))).T  # gamma"
   ]
  },
  {
   "cell_type": "code",
   "execution_count": 37,
   "id": "596df96c",
   "metadata": {},
   "outputs": [
    {
     "name": "stdout",
     "output_type": "stream",
     "text": [
      "[ 5.99920432 12.39869868  1.41607809  2.96092491 14.61478041  4.15317234\n",
      "  9.44995381  9.47534573  4.81257888 12.59846824]\n"
     ]
    }
   ],
   "source": [
    "#NEED TO PLOT THIS. Exploring PDFs notebook course on Bayesian Stats.\n",
    "\n",
    "x = np.linspace(0, 20, 201)\n",
    "#y = sps.gamma.rvs(2, 0 , 0.2, 10)\n",
    "#print(y)\n",
    "y = sps.gamma.rvs(2, 0, 5, 10)\n",
    "print(y)"
   ]
  },
  {
   "cell_type": "markdown",
   "id": "2f1cdff8",
   "metadata": {},
   "source": [
    "Now, we draw 50 random parameters."
   ]
  },
  {
   "cell_type": "code",
   "execution_count": 38,
   "id": "fddfb92f",
   "metadata": {},
   "outputs": [
    {
     "name": "stdout",
     "output_type": "stream",
     "text": [
      "(50, 1)\n",
      "(50, 4)\n",
      "[[ 3.69565294  1.68666508  1.          1.        ]\n",
      " [ 2.77856859  0.70398642  1.          1.        ]\n",
      " [ 7.57576831  0.11273683  1.          1.        ]\n",
      " [11.80590055  0.32705321  1.          1.        ]\n",
      " [ 6.8536839   1.17311726  1.          1.        ]\n",
      " [ 7.5008578   0.97480817  1.          1.        ]\n",
      " [ 8.52739049  0.56660419  1.          1.        ]\n",
      " [ 3.28344383  0.70996709  1.          1.        ]\n",
      " [ 6.88260919  0.36084772  1.          1.        ]\n",
      " [13.6153883   0.6505749   1.          1.        ]\n",
      " [22.25056205  0.49825289  1.          1.        ]\n",
      " [11.87558963  0.24139942  1.          1.        ]\n",
      " [11.70112349  1.43609312  1.          1.        ]\n",
      " [ 6.64585789  0.557312    1.          1.        ]\n",
      " [ 4.28620251  1.24794117  1.          1.        ]\n",
      " [ 5.00236001  0.38216324  1.          1.        ]\n",
      " [25.80817488  0.15774928  1.          1.        ]\n",
      " [ 1.51688765  0.39535757  1.          1.        ]\n",
      " [ 1.66764484  1.29991718  1.          1.        ]\n",
      " [ 7.83779451  1.24905306  1.          1.        ]\n",
      " [ 1.22481925  0.50482894  1.          1.        ]\n",
      " [ 2.75317672  0.71240307  1.          1.        ]\n",
      " [11.77637667  0.42935707  1.          1.        ]\n",
      " [ 2.56656856  0.4958834   1.          1.        ]\n",
      " [ 5.21702612  0.32207515  1.          1.        ]\n",
      " [10.80418906  2.41302147  1.          1.        ]\n",
      " [12.82838083  0.23220128  1.          1.        ]\n",
      " [ 1.13989252  2.16763382  1.          1.        ]\n",
      " [ 5.85020964  1.06947927  1.          1.        ]\n",
      " [15.31771906  1.0535144   1.          1.        ]\n",
      " [10.10525183  0.3146811   1.          1.        ]\n",
      " [ 6.36878981  0.19891829  1.          1.        ]\n",
      " [ 2.70357466  2.06521665  1.          1.        ]\n",
      " [ 8.74453682  0.16895091  1.          1.        ]\n",
      " [ 3.00020125  0.95063325  1.          1.        ]\n",
      " [ 9.18234262  0.32059911  1.          1.        ]\n",
      " [13.00579076  5.54014285  1.          1.        ]\n",
      " [11.08740269  2.36575275  1.          1.        ]\n",
      " [ 4.64976462  1.93318605  1.          1.        ]\n",
      " [ 3.68365134  0.66111194  1.          1.        ]\n",
      " [ 8.64850169  0.90567384  1.          1.        ]\n",
      " [ 6.61234693  0.99377781  1.          1.        ]\n",
      " [14.93395486  1.27823217  1.          1.        ]\n",
      " [12.08996415  2.68050857  1.          1.        ]\n",
      " [ 7.95258832  1.12030965  1.          1.        ]\n",
      " [21.10316208  0.75349545  1.          1.        ]\n",
      " [23.42772229  2.26250148  1.          1.        ]\n",
      " [11.76905751  0.29123383  1.          1.        ]\n",
      " [ 4.1920888   1.11363254  1.          1.        ]\n",
      " [11.95681766  1.35605749  1.          1.        ]]\n"
     ]
    }
   ],
   "source": [
    "# draw 50 random parameters from the prior\n",
    "theta_grav = priorphys_grav.rnd(50) \n",
    "print(np.shape(theta_grav))\n",
    "#print(theta_grav)\n",
    "\n",
    "# draw 50 random parameters from the prior\n",
    "m = 1\n",
    "D = 1\n",
    "theta_quad = priorphys_quad.rnd(50, m, D) #Last two entries are m and D all ones!\n",
    "print(np.shape(theta_quad))\n",
    "\n",
    "#printing things to check\n",
    "print(theta_quad)"
   ]
  },
  {
   "cell_type": "markdown",
   "id": "ccaed596",
   "metadata": {},
   "source": [
    "Let's evaluate the computer models $M_{1}$ and $M_{2}$ at those random points generated above, and obtain $m \\times n$ computer model output matrix ${\\bf f}$."
   ]
  },
  {
   "cell_type": "code",
   "execution_count": 39,
   "id": "a906778c",
   "metadata": {},
   "outputs": [
    {
     "name": "stdout",
     "output_type": "stream",
     "text": [
      "(84, 50)\n",
      "(84, 50)\n"
     ]
    }
   ],
   "source": [
    "# create a computer experiment to build an emulator for the gravity simulation\n",
    "f_grav = balldropmodel_grav(xtotv, theta_grav)  \n",
    "print(np.shape(f_grav))\n",
    "\n",
    "# create a computer experiment to build an emulator for the linear simulation\n",
    "f_quad = balldropmodel_quad(xtotv, theta_quad) \n",
    "print(np.shape(f_quad))\n",
    "\n",
    "#printing things to check\n",
    "#print(\"\\n First: \\n \\n\", f_grav)\n",
    "#print(\"\\n Second: \\n \\n \", f_quad)\n",
    "#print(f_quad.ndim)\n",
    "#print(theta_quad.ndim)\n",
    "#print(xtot.ndim)"
   ]
  },
  {
   "cell_type": "markdown",
   "id": "bd4e42b2",
   "metadata": {},
   "source": [
    "## Model emulation\n",
    "\n",
    "Now, we will emulate the models $M_{1}$ and $M_{2}$. We will use PCGP.\n",
    "\n",
    "##### Comment to discuss:\n",
    "\n",
    "I had to fix theta_quad ad hoc here to take only the 2 parameters but shouldn't the code be able to handle as many given parameters?"
   ]
  },
  {
   "cell_type": "code",
   "execution_count": 40,
   "id": "f01af0a0",
   "metadata": {},
   "outputs": [],
   "source": [
    "# build an emulator for the quadratic simulation\n",
    "emu_quad_1 = emulator(x=xtot, theta=theta_quad, f=f_quad, method='PCGP') \n",
    "\n",
    "\n",
    "# build an emulator for the gravity simulation\n",
    "emu_grav_1 = emulator(x=xtot, theta=theta_grav, f=f_grav, method='PCGP')\n",
    "\n",
    "##printing things to check\n",
    "#print(emu_quad_1)"
   ]
  },
  {
   "cell_type": "markdown",
   "id": "b4f07a33",
   "metadata": {},
   "source": [
    "## Comparison of emulation and models \n",
    "\n",
    "Let's first generate random draws of parameters, and evaluate the computer model at those values."
   ]
  },
  {
   "cell_type": "code",
   "execution_count": 19,
   "id": "8c313540",
   "metadata": {},
   "outputs": [],
   "source": [
    "# (Test) draw 50 random parameters from the prior\n",
    "theta_grav_test = priorphys_grav.rnd(50) \n",
    "\n",
    "# (Test) draw 50 random parameters from the prior\n",
    "theta_quad_test = priorphys_quad.rnd(50, m, D)  \n",
    "\n",
    "# (Test) the value of the gravity simulation\n",
    "f_grav_test = balldropmodel_grav(xtotv, theta_grav_test)  \n",
    "\n",
    "# (Test) the value of the linear simulation\n",
    "f_quad_test = balldropmodel_quad(xtotv, theta_quad_test) \n",
    "\n",
    "## Printing things to check\n",
    "#print(\"\\n First: \\n \\n\", theta_grav_test)\n",
    "#print(\"\\n Second: \\n \\n\", theta_quad_test)\n",
    "#print(theta_quad_test[:, 0:2])"
   ]
  },
  {
   "cell_type": "markdown",
   "id": "5d7c7689",
   "metadata": {},
   "source": [
    "Then, let's get the predict object of the emulator for the hold-out data:"
   ]
  },
  {
   "cell_type": "code",
   "execution_count": 24,
   "id": "9e5eb52d",
   "metadata": {},
   "outputs": [
    {
     "name": "stdout",
     "output_type": "stream",
     "text": [
      "A emulation prediction object predict where the code in located in the file  emulation.  The main method are predict.covx, predict.covxhalf, predict.covxhalf_gradtheta, predict.lpdf, predict.mean, predict.mean_gradtheta, predict.rnd, predict.var.  Default of predict() is predict.mean() and predict(s) will run pred.rnd(s). Run help(predict) for the document string.\n"
     ]
    }
   ],
   "source": [
    "pred_grav_1 = emu_grav_1.predict(x=xtot, theta=theta_grav_test)\n",
    "pred_quad_1 = emu_quad_1.predict(x=xtot, theta=theta_quad_test)\n",
    "\n",
    "## printing things to check\n",
    "#print(pred_quad_1)"
   ]
  },
  {
   "cell_type": "code",
   "execution_count": 25,
   "id": "924b975c",
   "metadata": {},
   "outputs": [
    {
     "name": "stdout",
     "output_type": "stream",
     "text": [
      "\n",
      " Second: \n",
      " \n",
      " [[nan nan nan ... nan nan nan]\n",
      " [nan nan nan ... nan nan nan]\n",
      " [nan nan nan ... nan nan nan]\n",
      " ...\n",
      " [nan nan nan ... nan nan nan]\n",
      " [nan nan nan ... nan nan nan]\n",
      " [nan nan nan ... nan nan nan]]\n"
     ]
    }
   ],
   "source": [
    "# get the prediction means and variances\n",
    "pred_quad_1_m, pred_quad_1_var = pred_quad_1.mean(), pred_quad_1.var()\n",
    "pred_grav_1_m, pred_grav_1_var = pred_grav_1.mean(), pred_grav_1.var()\n",
    "\n",
    "##printing things to check\n",
    "#print(\"\\n First: \\n \\n\", pred_grav_1_m)\n",
    "print(\"\\n Second: \\n \\n\", pred_quad_1_m)"
   ]
  },
  {
   "cell_type": "markdown",
   "id": "90db3032",
   "metadata": {},
   "source": [
    "Finally, let's observe the sum of squared deviations between the prediction means and the simulated output:"
   ]
  },
  {
   "cell_type": "code",
   "execution_count": 23,
   "id": "3b2cbd12",
   "metadata": {},
   "outputs": [
    {
     "name": "stdout",
     "output_type": "stream",
     "text": [
      "Rsq PCGP =  nan\n",
      "SSE PCGP =  nan\n",
      "Rsq PCGP =  -0.16\n",
      "SSE PCGP =  3188778.43\n"
     ]
    }
   ],
   "source": [
    "print('Rsq PCGP = ', np.round(1 - np.sum(np.square(pred_quad_1_m - f_quad_test))/np.sum(np.square(f_quad_test.T - np.mean(f_quad_test, axis = 1))), 2))\n",
    "print('SSE PCGP = ', np.round(np.sum(np.square(pred_quad_1_m - f_quad_test)), 2))\n",
    "\n",
    "print('Rsq PCGP = ', np.round(1 - np.sum(np.square(pred_grav_1_m - f_grav_test))/np.sum(np.square(f_grav_test.T - np.mean(f_grav_test, axis = 1))), 2))\n",
    "print('SSE PCGP = ', np.round(np.sum(np.square(pred_grav_1_m - f_grav_test)), 2))"
   ]
  },
  {
   "cell_type": "code",
   "execution_count": null,
   "id": "9cb6c7e6",
   "metadata": {},
   "outputs": [],
   "source": []
  },
  {
   "cell_type": "code",
   "execution_count": null,
   "id": "b46a863d",
   "metadata": {},
   "outputs": [],
   "source": []
  }
 ],
 "metadata": {
  "kernelspec": {
   "display_name": "Python 3",
   "language": "python",
   "name": "python3"
  },
  "language_info": {
   "codemirror_mode": {
    "name": "ipython",
    "version": 3
   },
   "file_extension": ".py",
   "mimetype": "text/x-python",
   "name": "python",
   "nbconvert_exporter": "python",
   "pygments_lexer": "ipython3",
   "version": "3.8.8"
  }
 },
 "nbformat": 4,
 "nbformat_minor": 5
}
