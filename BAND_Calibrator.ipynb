{
 "cells": [
  {
   "cell_type": "markdown",
   "id": "8c521382",
   "metadata": {},
   "source": [
    "### Part 2: Calibration\n",
    "\n",
    "This is Alan's version of [Surmise's Example 2](https://nbviewer.jupyter.org/github/surmising/surmise/blob/master/examples/Example2/Example2_nb.ipynb).\n",
    "\n",
    "Here, we will expand on my version on Example 1 which pertained the emulation of two ball drop models. \n",
    "\n",
    "We first import the required libraries."
   ]
  },
  {
   "cell_type": "code",
   "execution_count": 28,
   "id": "98b20e17",
   "metadata": {},
   "outputs": [],
   "source": [
    "import numpy as np\n",
    "import scipy.stats as sps\n",
    "import matplotlib.pyplot as plt \n",
    "from emulation import emulator\n",
    "from calibration import calibrator"
   ]
  },
  {
   "cell_type": "markdown",
   "id": "9f860cde",
   "metadata": {},
   "source": [
    "We collect data at the same heights done in Surmise's Example 2: 25 and 50."
   ]
  },
  {
   "cell_type": "code",
   "execution_count": 29,
   "id": "f267ed96",
   "metadata": {},
   "outputs": [],
   "source": [
    "x = np.array([[ 0.1, 25. ],\n",
    "              [ 0.2, 25. ],\n",
    "              [ 0.3, 25. ],\n",
    "              [ 0.4, 25. ],\n",
    "              [ 0.5, 25. ],\n",
    "              [ 0.6, 25. ],\n",
    "              [ 0.7, 25. ],\n",
    "              [ 0.9, 25. ],\n",
    "              [ 1.1, 25. ],\n",
    "              [ 1.3, 25. ],\n",
    "              [ 2.0, 25. ],\n",
    "              [ 2.4, 25. ],\n",
    "              [ 0.1, 50. ],\n",
    "              [ 0.2, 50. ],\n",
    "              [ 0.3, 50. ],\n",
    "              [ 0.4, 50. ],\n",
    "              [ 0.5, 50. ],\n",
    "              [ 0.6, 50. ],\n",
    "              [ 0.7, 50. ],\n",
    "              [ 0.8, 50. ],\n",
    "              [ 0.9, 50. ],\n",
    "              [ 1.0, 50. ],\n",
    "              [ 1.2, 50. ],\n",
    "              [ 2.6, 50. ],\n",
    "              [ 2.9, 50. ],\n",
    "              [ 3.1, 50. ],\n",
    "              [ 3.3, 50. ],\n",
    "              [ 3.5, 50. ],\n",
    "              [ 3.7, 50. ],]).astype('object')\n",
    "xv = x.astype('float')"
   ]
  },
  {
   "cell_type": "code",
   "execution_count": 30,
   "id": "4272af33",
   "metadata": {},
   "outputs": [],
   "source": [
    "def balldroptrue(x):\n",
    "    def logcosh(x):\n",
    "        # preventing crashing\n",
    "        s = np.sign(x) * x\n",
    "        p = np.exp(-2 * s)\n",
    "        return s + np.log1p(p) - np.log(2)\n",
    "    t = x[:, 0]\n",
    "    h0 = x[:, 1]\n",
    "    vter = 20\n",
    "    g = 9.81\n",
    "    y = h0 - (vter ** 2) / g * logcosh(g * t / vter)\n",
    "    return y"
   ]
  },
  {
   "cell_type": "code",
   "execution_count": 31,
   "id": "b10add42",
   "metadata": {},
   "outputs": [
    {
     "name": "stdout",
     "output_type": "stream",
     "text": [
      "(29,)\n"
     ]
    }
   ],
   "source": [
    "# variance for the observations in 'y' below\n",
    "obsvar = 4*np.ones(x.shape[0])  \n",
    "\n",
    "#observations at each row of 'x'\n",
    "y = balldroptrue(xv)\n",
    "\n",
    "print(np.shape(y))\n",
    "\n",
    "x[x[:,1] == 25, 1] = 'lowdrop'\n",
    "x[x[:,1] == 50, 1] = 'highdrop'"
   ]
  },
  {
   "cell_type": "markdown",
   "id": "afbba43b",
   "metadata": {},
   "source": [
    "## Model Emulation\n",
    "\n",
    "We recall the computer model experiments and prior distributions from Example 1."
   ]
  },
  {
   "cell_type": "code",
   "execution_count": 32,
   "id": "3f3b716b",
   "metadata": {},
   "outputs": [],
   "source": [
    "def balldropmodel_grav(x, theta):\n",
    "    f = np.zeros((theta.shape[0],x.shape[0]))\n",
    "    for k in range(0, theta.shape[0]):\n",
    "        t = x[:, 0]\n",
    "        h0 = x[:, 1]\n",
    "        g = theta[k]\n",
    "        f[k, :] = h0 - (g / 2) * (t ** 2)\n",
    "    return f.T\n",
    "\n",
    "def balldropmodel_quad(x, theta):\n",
    "    f = np.zeros((theta.shape[0], x.shape[0]))\n",
    "    for k in range(0, theta.shape[0]):\n",
    "        t = x[:, 0]\n",
    "        h0 = x[:, 1]\n",
    "        g = theta[k, 0]\n",
    "        gamma = theta[:, 1]\n",
    "        m = theta[:, 2]\n",
    "        D = theta[:, 3]\n",
    "        c = gamma[k]*(D[k]**2)\n",
    "        vter = np.sqrt(m[k] * (g/c))\n",
    "        \n",
    "        if gamma[k] > 0.0 :\n",
    "            f[k, :] = h0 - ((vter**2)/g)*np.log(np.cosh(g*t/vter))\n",
    "        else :\n",
    "            f[k, :] = balldropmodel_grav(x, theta)\n",
    "    return f.T\n",
    "\n",
    "class priorphys_grav:\n",
    "    \"\"\" This defines the class instance of priors provided to the method. \"\"\"\n",
    "    def lpdf(theta):\n",
    "        return (sps.gamma.logpdf(theta[:, 0], 2, 0, 5)).reshape((len(theta), 1))\n",
    "    \n",
    "    def rnd(n):\n",
    "        return np.reshape(sps.gamma.rvs(2, 0, 5, size=n), (-1, 1))  # gravity\n",
    "    \n",
    "class priorphys_quad:\n",
    "    \"\"\" This defines the class instance of priors provided to the method. \"\"\"\n",
    "    def lpdf(theta):\n",
    "        return (sps.gamma.logpdf(theta[:, 0], 2, 0, 5), #gravity\n",
    "                sps.norm.logpdf(theta[:, 1], 0, 5)).reshape((len(theta), 1))   # gamma\n",
    "\n",
    "\n",
    "    def rnd(n, m, D):\n",
    "        return np.vstack((sps.gamma.rvs(2, 0, 5, size=n),  # gravity\n",
    "                          sps.gamma.rvs(2, 0, 0.5, size=n), m * np.ones(50), D * np.ones(50))).T  # gamma"
   ]
  },
  {
   "cell_type": "markdown",
   "id": "78c86735",
   "metadata": {},
   "source": [
    "Now we build an emulator using PCGP to predict the computer model output:"
   ]
  },
  {
   "cell_type": "code",
   "execution_count": 33,
   "id": "32103ca7",
   "metadata": {},
   "outputs": [],
   "source": [
    "# the time vector of interest\n",
    "tvec = np.concatenate((np.arange(0.1, 4.3, 0.1), np.arange(0.1, 4.3, 0.1))) \n",
    "\n",
    "# the drop heights vector of interest\n",
    "hvec = np.concatenate((25 * np.ones(42), 50 * np.ones(42)))  \n",
    "\n",
    "# the input of interest\n",
    "xtot = (np.round(np.vstack((tvec, hvec)).T,3)).astype('object')\n",
    "xtotv = xtot.astype('float')\n",
    "xtot[xtot[:,1] == 25, 1] = 'lowdrop'\n",
    "xtot[xtot[:,1] == 50, 1] = 'highdrop'\n",
    "\n",
    "# draw 50 random parameters from the prior\n",
    "theta_grav = priorphys_grav.rnd(50) \n",
    "\n",
    "# draw 50 random parameters from the prior\n",
    "m = 1\n",
    "D = 1\n",
    "theta_quad = priorphys_quad.rnd(50, m, D)  \n",
    "\n",
    "# create a computer experiment to build an emulator for the linear simulation\n",
    "f_grav = balldropmodel_grav(xv, theta_grav)\n",
    "\n",
    "# create a computer experiment to build an emulator for the gravity simulation\n",
    "f_quad = balldropmodel_quad(xv, theta_quad)  \n",
    "\n",
    "# build an emulator for the gravity simulation\n",
    "emu_grav = emulator(x=x, theta=theta_grav, f=f_grav, method='PCGP')  \n",
    "\n",
    "# build an emulator for the linear simulation\n",
    "emu_quad = emulator(x=x, theta=theta_quad, f=f_quad, method='PCGP') "
   ]
  },
  {
   "cell_type": "markdown",
   "id": "c4ef9f26",
   "metadata": {},
   "source": [
    "## Model Calibration"
   ]
  },
  {
   "cell_type": "code",
   "execution_count": 34,
   "id": "7e81487d",
   "metadata": {},
   "outputs": [],
   "source": [
    "def plot_theta(cal, whichtheta):\n",
    "    fig, axs = plt.subplots(1, 3, figsize=(14, 4))\n",
    "    cal_theta = cal.theta.rnd(1000) \n",
    "    axs[0].plot(cal_theta[:, whichtheta])\n",
    "    axs[1].boxplot(cal_theta[:, whichtheta])\n",
    "    axs[2].hist(cal_theta[:, whichtheta])\n",
    "    plt.show()\n",
    "    \n",
    "def plot_preds(cal, axs):\n",
    "    # getting a prediction object   \n",
    "    post = cal.predict(x)\n",
    "    rndm_m = post.rnd(s = 1000)\n",
    "    for k in (25,50):\n",
    "        inds = np.where(xv[:,1] == k)[0]\n",
    "        upper = np.percentile(rndm_m[:, inds], 97.5, axis = 0)\n",
    "        lower = np.percentile(rndm_m[:, inds], 2.5, axis = 0)\n",
    "        axs.fill_between(xv[inds,0], lower, upper, color = 'grey', alpha=0.25)\n",
    "        axs.plot(xv[inds, 0], y[inds], 'ro', markersize = 5, color='red')\n",
    "    return(axs)"
   ]
  },
  {
   "cell_type": "code",
   "execution_count": 36,
   "id": "7fb0a505",
   "metadata": {},
   "outputs": [
    {
     "ename": "ModuleNotFoundError",
     "evalue": "No module named 'surmise'",
     "output_type": "error",
     "traceback": [
      "\u001b[0;31m---------------------------------------------------------------------------\u001b[0m",
      "\u001b[0;31mModuleNotFoundError\u001b[0m                       Traceback (most recent call last)",
      "\u001b[0;32m<ipython-input-36-f391e4c4b032>\u001b[0m in \u001b[0;36m<module>\u001b[0;34m\u001b[0m\n\u001b[0;32m----> 1\u001b[0;31m cal_grav_1 = calibrator(emu=emu_grav,\n\u001b[0m\u001b[1;32m      2\u001b[0m                         \u001b[0my\u001b[0m\u001b[0;34m=\u001b[0m\u001b[0my\u001b[0m\u001b[0;34m,\u001b[0m\u001b[0;34m\u001b[0m\u001b[0;34m\u001b[0m\u001b[0m\n\u001b[1;32m      3\u001b[0m                         \u001b[0mx\u001b[0m\u001b[0;34m=\u001b[0m\u001b[0mx\u001b[0m\u001b[0;34m,\u001b[0m\u001b[0;34m\u001b[0m\u001b[0;34m\u001b[0m\u001b[0m\n\u001b[1;32m      4\u001b[0m                         \u001b[0mthetaprior\u001b[0m\u001b[0;34m=\u001b[0m\u001b[0mpriorphys_grav\u001b[0m\u001b[0;34m,\u001b[0m\u001b[0;34m\u001b[0m\u001b[0;34m\u001b[0m\u001b[0m\n\u001b[1;32m      5\u001b[0m                         \u001b[0mmethod\u001b[0m\u001b[0;34m=\u001b[0m\u001b[0;34m'directbayes'\u001b[0m\u001b[0;34m,\u001b[0m\u001b[0;34m\u001b[0m\u001b[0;34m\u001b[0m\u001b[0m\n",
      "\u001b[0;32m~/Desktop/calibration.py\u001b[0m in \u001b[0;36m__init__\u001b[0;34m(self, emu, y, x, thetaprior, yvar, method, args)\u001b[0m\n\u001b[1;32m    181\u001b[0m             \u001b[0;32mraise\u001b[0m \u001b[0mValueError\u001b[0m\u001b[0;34m(\u001b[0m\u001b[0;34m'Module not found!'\u001b[0m\u001b[0;34m)\u001b[0m\u001b[0;34m\u001b[0m\u001b[0;34m\u001b[0m\u001b[0m\n\u001b[1;32m    182\u001b[0m \u001b[0;34m\u001b[0m\u001b[0m\n\u001b[0;32m--> 183\u001b[0;31m         \u001b[0mself\u001b[0m\u001b[0;34m.\u001b[0m\u001b[0mfit\u001b[0m\u001b[0;34m(\u001b[0m\u001b[0;34m)\u001b[0m\u001b[0;34m\u001b[0m\u001b[0;34m\u001b[0m\u001b[0m\n\u001b[0m\u001b[1;32m    184\u001b[0m \u001b[0;34m\u001b[0m\u001b[0m\n\u001b[1;32m    185\u001b[0m     \u001b[0;32mdef\u001b[0m \u001b[0m__repr__\u001b[0m\u001b[0;34m(\u001b[0m\u001b[0mself\u001b[0m\u001b[0;34m)\u001b[0m\u001b[0;34m:\u001b[0m\u001b[0;34m\u001b[0m\u001b[0;34m\u001b[0m\u001b[0m\n",
      "\u001b[0;32m~/Desktop/calibration.py\u001b[0m in \u001b[0;36mfit\u001b[0;34m(self, args)\u001b[0m\n\u001b[1;32m    209\u001b[0m         \u001b[0;32mif\u001b[0m \u001b[0margs\u001b[0m \u001b[0;32mis\u001b[0m \u001b[0;32mNone\u001b[0m\u001b[0;34m:\u001b[0m\u001b[0;34m\u001b[0m\u001b[0;34m\u001b[0m\u001b[0m\n\u001b[1;32m    210\u001b[0m             \u001b[0margs\u001b[0m \u001b[0;34m=\u001b[0m \u001b[0mself\u001b[0m\u001b[0;34m.\u001b[0m\u001b[0margs\u001b[0m\u001b[0;34m\u001b[0m\u001b[0;34m\u001b[0m\u001b[0m\n\u001b[0;32m--> 211\u001b[0;31m         \u001b[0mself\u001b[0m\u001b[0;34m.\u001b[0m\u001b[0mmethod\u001b[0m\u001b[0;34m.\u001b[0m\u001b[0mfit\u001b[0m\u001b[0;34m(\u001b[0m\u001b[0mself\u001b[0m\u001b[0;34m.\u001b[0m\u001b[0minfo\u001b[0m\u001b[0;34m,\u001b[0m \u001b[0mself\u001b[0m\u001b[0;34m.\u001b[0m\u001b[0memu\u001b[0m\u001b[0;34m,\u001b[0m \u001b[0mself\u001b[0m\u001b[0;34m.\u001b[0m\u001b[0mx\u001b[0m\u001b[0;34m,\u001b[0m \u001b[0mself\u001b[0m\u001b[0;34m.\u001b[0m\u001b[0my\u001b[0m\u001b[0;34m,\u001b[0m \u001b[0margs\u001b[0m\u001b[0;34m)\u001b[0m\u001b[0;34m\u001b[0m\u001b[0;34m\u001b[0m\u001b[0m\n\u001b[0m\u001b[1;32m    212\u001b[0m         \u001b[0;32mif\u001b[0m \u001b[0mhasattr\u001b[0m\u001b[0;34m(\u001b[0m\u001b[0mself\u001b[0m\u001b[0;34m,\u001b[0m \u001b[0;34m'theta'\u001b[0m\u001b[0;34m)\u001b[0m\u001b[0;34m:\u001b[0m\u001b[0;34m\u001b[0m\u001b[0;34m\u001b[0m\u001b[0m\n\u001b[1;32m    213\u001b[0m             \u001b[0;32mdel\u001b[0m \u001b[0mself\u001b[0m\u001b[0;34m.\u001b[0m\u001b[0mtheta\u001b[0m\u001b[0;34m\u001b[0m\u001b[0;34m\u001b[0m\u001b[0m\n",
      "\u001b[0;32m~/Desktop/calibrationmethods/directbayes.py\u001b[0m in \u001b[0;36mfit\u001b[0;34m(fitinfo, emu, x, y, args)\u001b[0m\n\u001b[1;32m     95\u001b[0m     \u001b[0;32mif\u001b[0m \u001b[0;34m'stepParam'\u001b[0m \u001b[0;32mnot\u001b[0m \u001b[0;32min\u001b[0m \u001b[0margs\u001b[0m\u001b[0;34m.\u001b[0m\u001b[0mkeys\u001b[0m\u001b[0;34m(\u001b[0m\u001b[0;34m)\u001b[0m\u001b[0;34m:\u001b[0m\u001b[0;34m\u001b[0m\u001b[0;34m\u001b[0m\u001b[0m\n\u001b[1;32m     96\u001b[0m         \u001b[0margs\u001b[0m\u001b[0;34m[\u001b[0m\u001b[0;34m'stepParam'\u001b[0m\u001b[0;34m]\u001b[0m \u001b[0;34m=\u001b[0m \u001b[0mnp\u001b[0m\u001b[0;34m.\u001b[0m\u001b[0mstd\u001b[0m\u001b[0;34m(\u001b[0m\u001b[0mthetaprior\u001b[0m\u001b[0;34m.\u001b[0m\u001b[0mrnd\u001b[0m\u001b[0;34m(\u001b[0m\u001b[0;36m1000\u001b[0m\u001b[0;34m)\u001b[0m\u001b[0;34m,\u001b[0m \u001b[0maxis\u001b[0m\u001b[0;34m=\u001b[0m\u001b[0;36m0\u001b[0m\u001b[0;34m)\u001b[0m\u001b[0;34m\u001b[0m\u001b[0;34m\u001b[0m\u001b[0m\n\u001b[0;32m---> 97\u001b[0;31m     \u001b[0msampler_obj\u001b[0m \u001b[0;34m=\u001b[0m \u001b[0msampler\u001b[0m\u001b[0;34m(\u001b[0m\u001b[0mlogpostfunc\u001b[0m\u001b[0;34m=\u001b[0m\u001b[0mlogpostfull\u001b[0m\u001b[0;34m,\u001b[0m \u001b[0moptions\u001b[0m\u001b[0;34m=\u001b[0m\u001b[0margs\u001b[0m\u001b[0;34m)\u001b[0m\u001b[0;34m\u001b[0m\u001b[0;34m\u001b[0m\u001b[0m\n\u001b[0m\u001b[1;32m     98\u001b[0m     \u001b[0mtheta\u001b[0m \u001b[0;34m=\u001b[0m \u001b[0msampler_obj\u001b[0m\u001b[0;34m.\u001b[0m\u001b[0msampler_info\u001b[0m\u001b[0;34m[\u001b[0m\u001b[0;34m'theta'\u001b[0m\u001b[0;34m]\u001b[0m\u001b[0;34m\u001b[0m\u001b[0;34m\u001b[0m\u001b[0m\n\u001b[1;32m     99\u001b[0m \u001b[0;34m\u001b[0m\u001b[0m\n",
      "\u001b[0;32m~/Desktop/utilities.py\u001b[0m in \u001b[0;36m__init__\u001b[0;34m(self, logpostfunc, options)\u001b[0m\n\u001b[1;32m     30\u001b[0m         \u001b[0mself\u001b[0m\u001b[0;34m.\u001b[0m\u001b[0moptions\u001b[0m \u001b[0;34m=\u001b[0m \u001b[0moptions\u001b[0m\u001b[0;34m\u001b[0m\u001b[0;34m\u001b[0m\u001b[0m\n\u001b[1;32m     31\u001b[0m         \u001b[0mself\u001b[0m\u001b[0;34m.\u001b[0m\u001b[0msampler_info\u001b[0m \u001b[0;34m=\u001b[0m \u001b[0;34m{\u001b[0m\u001b[0;34m}\u001b[0m\u001b[0;34m\u001b[0m\u001b[0;34m\u001b[0m\u001b[0m\n\u001b[0;32m---> 32\u001b[0;31m         \u001b[0mself\u001b[0m\u001b[0;34m.\u001b[0m\u001b[0mdraw_samples\u001b[0m\u001b[0;34m(\u001b[0m\u001b[0mmethod\u001b[0m\u001b[0;34m)\u001b[0m\u001b[0;34m\u001b[0m\u001b[0;34m\u001b[0m\u001b[0m\n\u001b[0m\u001b[1;32m     33\u001b[0m \u001b[0;34m\u001b[0m\u001b[0m\n\u001b[1;32m     34\u001b[0m     \u001b[0;32mdef\u001b[0m \u001b[0mdraw_samples\u001b[0m\u001b[0;34m(\u001b[0m\u001b[0mself\u001b[0m\u001b[0;34m,\u001b[0m \u001b[0mmethod\u001b[0m\u001b[0;34m)\u001b[0m\u001b[0;34m:\u001b[0m\u001b[0;34m\u001b[0m\u001b[0;34m\u001b[0m\u001b[0m\n",
      "\u001b[0;32m~/Desktop/utilities.py\u001b[0m in \u001b[0;36mdraw_samples\u001b[0;34m(self, method)\u001b[0m\n\u001b[1;32m     47\u001b[0m \u001b[0;34m\u001b[0m\u001b[0m\n\u001b[1;32m     48\u001b[0m         '''\n\u001b[0;32m---> 49\u001b[0;31m         self.method = importlib.import_module('utilitiesmethods.'\n\u001b[0m\u001b[1;32m     50\u001b[0m                                               + method)\n\u001b[1;32m     51\u001b[0m         \u001b[0;31m# update sampler_info with the output of the sampler\u001b[0m\u001b[0;34m\u001b[0m\u001b[0;34m\u001b[0m\u001b[0;34m\u001b[0m\u001b[0m\n",
      "\u001b[0;32m~/opt/anaconda3/lib/python3.8/importlib/__init__.py\u001b[0m in \u001b[0;36mimport_module\u001b[0;34m(name, package)\u001b[0m\n\u001b[1;32m    125\u001b[0m                 \u001b[0;32mbreak\u001b[0m\u001b[0;34m\u001b[0m\u001b[0;34m\u001b[0m\u001b[0m\n\u001b[1;32m    126\u001b[0m             \u001b[0mlevel\u001b[0m \u001b[0;34m+=\u001b[0m \u001b[0;36m1\u001b[0m\u001b[0;34m\u001b[0m\u001b[0;34m\u001b[0m\u001b[0m\n\u001b[0;32m--> 127\u001b[0;31m     \u001b[0;32mreturn\u001b[0m \u001b[0m_bootstrap\u001b[0m\u001b[0;34m.\u001b[0m\u001b[0m_gcd_import\u001b[0m\u001b[0;34m(\u001b[0m\u001b[0mname\u001b[0m\u001b[0;34m[\u001b[0m\u001b[0mlevel\u001b[0m\u001b[0;34m:\u001b[0m\u001b[0;34m]\u001b[0m\u001b[0;34m,\u001b[0m \u001b[0mpackage\u001b[0m\u001b[0;34m,\u001b[0m \u001b[0mlevel\u001b[0m\u001b[0;34m)\u001b[0m\u001b[0;34m\u001b[0m\u001b[0;34m\u001b[0m\u001b[0m\n\u001b[0m\u001b[1;32m    128\u001b[0m \u001b[0;34m\u001b[0m\u001b[0m\n\u001b[1;32m    129\u001b[0m \u001b[0;34m\u001b[0m\u001b[0m\n",
      "\u001b[0;32m~/opt/anaconda3/lib/python3.8/importlib/_bootstrap.py\u001b[0m in \u001b[0;36m_gcd_import\u001b[0;34m(name, package, level)\u001b[0m\n",
      "\u001b[0;32m~/opt/anaconda3/lib/python3.8/importlib/_bootstrap.py\u001b[0m in \u001b[0;36m_find_and_load\u001b[0;34m(name, import_)\u001b[0m\n",
      "\u001b[0;32m~/opt/anaconda3/lib/python3.8/importlib/_bootstrap.py\u001b[0m in \u001b[0;36m_find_and_load_unlocked\u001b[0;34m(name, import_)\u001b[0m\n",
      "\u001b[0;32m~/opt/anaconda3/lib/python3.8/importlib/_bootstrap.py\u001b[0m in \u001b[0;36m_call_with_frames_removed\u001b[0;34m(f, *args, **kwds)\u001b[0m\n",
      "\u001b[0;32m~/opt/anaconda3/lib/python3.8/importlib/_bootstrap.py\u001b[0m in \u001b[0;36m_gcd_import\u001b[0;34m(name, package, level)\u001b[0m\n",
      "\u001b[0;32m~/opt/anaconda3/lib/python3.8/importlib/_bootstrap.py\u001b[0m in \u001b[0;36m_find_and_load\u001b[0;34m(name, import_)\u001b[0m\n",
      "\u001b[0;32m~/opt/anaconda3/lib/python3.8/importlib/_bootstrap.py\u001b[0m in \u001b[0;36m_find_and_load_unlocked\u001b[0;34m(name, import_)\u001b[0m\n",
      "\u001b[0;32m~/opt/anaconda3/lib/python3.8/importlib/_bootstrap.py\u001b[0m in \u001b[0;36m_call_with_frames_removed\u001b[0;34m(f, *args, **kwds)\u001b[0m\n",
      "\u001b[0;32m~/opt/anaconda3/lib/python3.8/importlib/_bootstrap.py\u001b[0m in \u001b[0;36m_gcd_import\u001b[0;34m(name, package, level)\u001b[0m\n",
      "\u001b[0;32m~/opt/anaconda3/lib/python3.8/importlib/_bootstrap.py\u001b[0m in \u001b[0;36m_find_and_load\u001b[0;34m(name, import_)\u001b[0m\n",
      "\u001b[0;32m~/opt/anaconda3/lib/python3.8/importlib/_bootstrap.py\u001b[0m in \u001b[0;36m_find_and_load_unlocked\u001b[0;34m(name, import_)\u001b[0m\n",
      "\u001b[0;31mModuleNotFoundError\u001b[0m: No module named 'surmise'"
     ]
    }
   ],
   "source": [
    "cal_grav_1 = calibrator(emu=emu_grav,\n",
    "                        y=y,\n",
    "                        x=x,\n",
    "                        thetaprior=priorphys_grav, \n",
    "                        method='directbayes',\n",
    "                        yvar=obsvar, \n",
    "                        args={'theta0': np.array([[9]]), \n",
    "                              'numsamp': 1000, \n",
    "                              'stepType': 'normal', \n",
    "                              'stepParam': np.array([1])})"
   ]
  },
  {
   "cell_type": "code",
   "execution_count": null,
   "id": "cfe06bae",
   "metadata": {},
   "outputs": [],
   "source": []
  }
 ],
 "metadata": {
  "kernelspec": {
   "display_name": "Python 3",
   "language": "python",
   "name": "python3"
  },
  "language_info": {
   "codemirror_mode": {
    "name": "ipython",
    "version": 3
   },
   "file_extension": ".py",
   "mimetype": "text/x-python",
   "name": "python",
   "nbconvert_exporter": "python",
   "pygments_lexer": "ipython3",
   "version": "3.8.8"
  }
 },
 "nbformat": 4,
 "nbformat_minor": 5
}
