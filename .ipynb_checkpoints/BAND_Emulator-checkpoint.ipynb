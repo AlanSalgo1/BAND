{
 "cells": [
  {
   "cell_type": "markdown",
   "id": "925dab3d",
   "metadata": {},
   "source": [
    "## BAND Framework Toy Model: Ball Drop\n",
    "\n",
    "### Part 1: Emulation\n",
    "\n",
    "This is Alan's version of [Surmise's Example 1](https://nbviewer.jupyter.org/github/surmising/surmise/blob/master/examples/Example1/Example1_nb.ipynb). In this example, we will emulate the results from two different **Ball Drop models**: turning on and off the drag force (quadratic). \n",
    "\n",
    "First, we import the required libraries."
   ]
  },
  {
   "cell_type": "code",
   "execution_count": 2,
   "id": "452f5b85",
   "metadata": {},
   "outputs": [],
   "source": [
    "import numpy as np \n",
    "import scipy.stats as sps     #Do I need to have scipy installed? Yes.\n",
    "import matplotlib.pyplot as plt\n",
    "\n",
    "from emulation import emulator # Import an emulator which I should write/understand"
   ]
  },
  {
   "cell_type": "markdown",
   "id": "50f0022d",
   "metadata": {},
   "source": [
    "### Models\n",
    "\n",
    "The height of a large falling ball from a tower is recorded at different times until it reaches the ground. The same phenomenon is described by two different models.\n",
    "\n",
    "\n",
    "#### Model 1 ($M_{1}$)\n",
    "\n",
    "We describe the falling ball without drag force. Here, the gravitational force causes the object to have acceleration g downward. The height is given by *$h = h_{0} - \\frac{1}{2}gt^{2}$* where $h_{0}$ is the initial height and $t$ is the time to reach $h$. The inputs used are:\n",
    "\n",
    "- time $t$,\n",
    "- initial height $h_{0}$, and\n",
    "- gravity $g$.\n",
    "\n",
    "For the next function, we use $x = (t, h_{0})$ and $\\theta = g$; $f$ represents the model outputs."
   ]
  },
  {
   "cell_type": "code",
   "execution_count": 3,
   "id": "9553a487",
   "metadata": {},
   "outputs": [],
   "source": [
    "def balldropmodel_grav(x, theta):\n",
    "    f = np.zeros((theta.shape[0],x.shape[0]))\n",
    "    for k in range(0, theta.shape[0]):\n",
    "        t = x[:, 0]\n",
    "        h0 = x[:, 1]\n",
    "        g = theta[k]\n",
    "        f[k, :] = h0 - (g / 2) * (t ** 2)\n",
    "    return f.T\n",
    "\n",
    "#Playing around, checking outputs, and how to arrange inputs:\n",
    "\n",
    "#x = np.array([[1,10],[1,40], [1,8]])\n",
    "#theta = np.array([9.8, 10])\n",
    "#h = balldropmodel_grav(x, theta)\n",
    "#print(h)"
   ]
  },
  {
   "cell_type": "markdown",
   "id": "b15f84ff",
   "metadata": {},
   "source": [
    "### Model 2 ($M_{2}$)\n",
    "\n",
    "$M_{2}$ here is different from that in the [surmise](https://nbviewer.jupyter.org/github/surmising/surmise/blob/master/examples/Example1/Example1_nb.ipynb) example. Surmise uses a drag force that is linear with the drag coefficient. Here, we'll use the quadratic drag force of ball drop in accordance with the [BAND Manifesto](https://arxiv.org/abs/2012.07704).\n",
    "\n",
    "When $t$ is large enough, we can approximate $h$ as a straight line: $h = h_{0} + v_{ter}t + ¿c?$. We will use the following inputs:\n",
    "\n",
    "- time $t$,\n",
    "- drag coefficient $\\gamma$,\n",
    "- gravity $g$,\n",
    "- ball's diameter $D$,\n",
    "- ball's mass $m$, and \n",
    "- initial height $h_{0}$.\n",
    "\n",
    "Here $x = (t, h_{0})$ and $\\theta = (g, \\gamma, m, D)$; $f$ represents the model outputs. \n",
    "\n",
    "${\\bf Questions:}$ what is the constant c?"
   ]
  },
  {
   "cell_type": "code",
   "execution_count": 4,
   "id": "1c97e6a2",
   "metadata": {},
   "outputs": [],
   "source": [
    "def balldropmodel_quad(x, theta):\n",
    "    f = np.zeros((theta.shape[0], x.shape[0]))\n",
    "    for k in range(0, theta.shape[0]):\n",
    "        t = x[:, 0]\n",
    "        h0 = x[:, 1]\n",
    "        g = theta[k, 0]\n",
    "        gamma = theta[:, 1]\n",
    "        m = theta[:, 2]\n",
    "        D = theta[:, 3]\n",
    "        c = gamma[k]*(D[k]**2)\n",
    "        vter = np.sqrt(m[k] * (g/c))\n",
    "        \n",
    "        if gamma[k] > 0.0 :\n",
    "            f[k, :] = h0 - ((vter**2)/g)*np.log(np.cosh(g*t/vter))\n",
    "        else :\n",
    "            f[k, :] = balldropmodel_grav(x, theta)\n",
    "    return f.T\n",
    "\n",
    "#Playing around, checking outputs, and how to arrange inputs:\n",
    "\n",
    "#x = np.array([[1,10],[1,40]])\n",
    "#theta = np.array([[9.8, 0.002, 1, 1], [9.8, 0.001, 1, 1]])\n",
    "#h = balldropmodel_quad(x, theta)\n",
    "#print(h)\n",
    "\n",
    "#It works and agrees with M1 in the limit gamma -> 0."
   ]
  },
  {
   "cell_type": "markdown",
   "id": "33dd2b58",
   "metadata": {},
   "source": [
    "Let me now implement the previous models in the same input space as the Surmise code uses. i.e. on an input grid $t \\in [0.1,4.2]$ and $h_{0} \\in \\{25,50\\}$."
   ]
  },
  {
   "cell_type": "code",
   "execution_count": 5,
   "id": "38d2fc78",
   "metadata": {},
   "outputs": [
    {
     "name": "stdout",
     "output_type": "stream",
     "text": [
      "(84, 2)\n"
     ]
    }
   ],
   "source": [
    "# the time vector of interest\n",
    "tvec = np.concatenate((np.arange(0.1, 4.3, 0.1), np.arange(0.1, 4.3, 0.1)))\n",
    "#print(tvec)\n",
    "\n",
    "# the drop heights vector of interest\n",
    "h0vec = np.concatenate((25 * np.ones(42), 50 * np.ones(42)))  \n",
    "\n",
    "# the input of interest\n",
    "xtot = (np.vstack((tvec, h0vec)).T).astype('object')\n",
    "#print(xtot)\n",
    "\n",
    "xtotv = xtot.astype('float')\n",
    "xtot[xtot[:,1] == 25, 1] = 'lowdrop'\n",
    "xtot[xtot[:,1] == 50, 1] = 'highdrop'\n",
    "#print(xtot)\n",
    "\n",
    "print(np.shape(xtot))\n",
    "\n"
   ]
  },
  {
   "cell_type": "markdown",
   "id": "6ed6c4c9",
   "metadata": {},
   "source": [
    "\n",
    "### Prior specification\n",
    "\n",
    "Typically, the researchers have a prior knowledge about the unknown parameters in the form of a prior distribution.\n",
    "\n",
    "In $M_{1}$, we assume \n",
    "\n",
    "- $g$ is gamma-distributed random variable with shape $\\alpha$, location $\\mu$ and rate $\\beta$ parameters such that $g$ $\\sim$ $\\Gamma (\\alpha,\\mu,\\beta)$ with $\\alpha$ = 2, $\\mu$ = 0, $\\beta$ = 5.\n",
    "\n",
    "In $M_{2}$, we assume \n",
    "\n",
    "-  $g$ has a gamma distribution with shape $\\alpha$, location $\\mu$ and rate $\\beta$ parameters such that $v_{ter}$ $\\sim$ $\\Gamma (\\alpha,\\mu,\\beta)$ with \\$\\alpha$ = 2, $\\mu$ = 0, $\\beta$ = 5,\n",
    "\n",
    "-  $\\gamma$ has a gamma distribution with shape $\\alpha$, location $\\mu$ and rate $\\beta$ parameters such that $\\gamma$ $\\sim$ $\\Gamma (\\alpha,\\mu,\\beta)$ with $\\alpha$ = 2, $\\mu$ = 0, $\\beta$ = 5."
   ]
  },
  {
   "cell_type": "code",
   "execution_count": 6,
   "id": "3980c937",
   "metadata": {},
   "outputs": [],
   "source": [
    "class priorphys_grav:\n",
    "    \"\"\" This defines the class instance of priors provided to the method. \"\"\"\n",
    "    def lpdf(theta):\n",
    "        return (sps.gamma.logpdf(theta[:, 0], 2, 0, 5)).reshape((len(theta), 1))\n",
    "    \n",
    "    def rnd(n):\n",
    "        return np.reshape(sps.gamma.rvs(2, 0, 5, size=n), (-1, 1))  # gravity"
   ]
  },
  {
   "cell_type": "code",
   "execution_count": 7,
   "id": "a685e992",
   "metadata": {},
   "outputs": [],
   "source": [
    "class priorphys_quad:\n",
    "    \"\"\" This defines the class instance of priors provided to the method. \"\"\"\n",
    "    def lpdf(theta):\n",
    "        return (sps.gamma.logpdf(theta[:, 0], 2, 0, 5), #gravity\n",
    "                sps.norm.logpdf(theta[:, 1], 0, 5)).reshape((len(theta), 1))   # gamma\n",
    "\n",
    "\n",
    "    def rnd(n, m, D):\n",
    "        return np.vstack((sps.gamma.rvs(2, 0, 5, size=n),  # gravity\n",
    "                          sps.gamma.rvs(2, 0, 0.5, size=n), m * np.ones(50), D * np.ones(50))).T  # gamma"
   ]
  },
  {
   "cell_type": "code",
   "execution_count": 8,
   "id": "596df96c",
   "metadata": {},
   "outputs": [],
   "source": [
    "#NEED TO PLOT THIS. Exploring PDFs notebook course on Bayesian Stats.\n",
    "\n",
    "#x = np.linspace(0, 20, 201)\n",
    "#y = sps.gamma.rvs(2, 0 , 0.2, 10)\n",
    "#print(y)\n",
    "#y = sps.gamma.rvs(2, 0, 5, 10)\n",
    "#print(y)"
   ]
  },
  {
   "cell_type": "markdown",
   "id": "2f1cdff8",
   "metadata": {},
   "source": [
    "Now, we draw 50 random parameters."
   ]
  },
  {
   "cell_type": "code",
   "execution_count": 13,
   "id": "fddfb92f",
   "metadata": {},
   "outputs": [
    {
     "name": "stdout",
     "output_type": "stream",
     "text": [
      "(50, 1)\n",
      "(50, 4)\n",
      "[[14.02167806  0.45421452]\n",
      " [ 5.9486864   1.09453572]\n",
      " [ 4.60951007  0.56396538]\n",
      " [ 5.02973046  1.76184123]\n",
      " [ 0.33541639  1.85370811]\n",
      " [12.20959449  1.82317604]\n",
      " [17.16365546  0.4492761 ]\n",
      " [13.0120834   0.63912325]\n",
      " [12.26524456  1.37989938]\n",
      " [ 7.58751675  1.04285763]\n",
      " [ 5.08352378  1.430208  ]\n",
      " [ 8.3218043   4.67398171]\n",
      " [ 6.96237256  2.69981582]\n",
      " [ 5.63511668  2.04970529]\n",
      " [ 5.13236152  3.03247068]\n",
      " [24.09076628  0.64433041]\n",
      " [ 9.58954309  0.79947028]\n",
      " [ 8.43611885  0.12827037]\n",
      " [18.55671268  0.6822433 ]\n",
      " [15.59024583  1.04402595]\n",
      " [11.70231699  0.67588718]\n",
      " [ 5.71186157  1.02611133]\n",
      " [13.87605423  0.73706743]\n",
      " [ 6.94271271  0.26739434]\n",
      " [13.56547111  0.0920571 ]\n",
      " [11.63749632  2.67164547]\n",
      " [12.40242903  0.292102  ]\n",
      " [ 1.28349656  0.83244815]\n",
      " [ 5.14236157  0.61573681]\n",
      " [ 1.62399772  0.46058791]\n",
      " [ 4.17850835  1.84449502]\n",
      " [13.46845414  2.57713054]\n",
      " [34.55465766  1.4050996 ]\n",
      " [ 5.8507173   0.27731021]\n",
      " [ 3.0842237   0.16872093]\n",
      " [ 9.81339598  1.52164954]\n",
      " [ 9.72276176  0.60230845]\n",
      " [ 3.78818466  0.07560997]\n",
      " [22.62064833  0.8872349 ]\n",
      " [10.68977589  0.2989724 ]\n",
      " [12.63314132  0.26478349]\n",
      " [17.73731998  0.60013929]\n",
      " [ 5.1935663   0.15788589]\n",
      " [ 4.86959055  0.25123946]\n",
      " [10.38941684  0.58564588]\n",
      " [21.58644884  1.69978722]\n",
      " [ 5.72805614  0.05262684]\n",
      " [16.48924998  0.30646374]\n",
      " [ 5.07733696  0.21104917]\n",
      " [ 1.44239566  1.43756552]]\n"
     ]
    }
   ],
   "source": [
    "# draw 50 random parameters from the prior\n",
    "theta_grav = priorphys_grav.rnd(50) \n",
    "print(np.shape(theta_grav))\n",
    "#print(theta_grav)\n",
    "\n",
    "# draw 50 random parameters from the prior\n",
    "m = 1\n",
    "D = 1\n",
    "theta_quad = priorphys_quad.rnd(50, m, D) #Last two entries are m and D all ones!\n",
    "print(np.shape(theta_quad))\n",
    "\n",
    "#printing things to check\n",
    "#print(theta_quad[:, 0:2])"
   ]
  },
  {
   "cell_type": "markdown",
   "id": "ccaed596",
   "metadata": {},
   "source": [
    "Let's evaluate the computer models $M_{1}$ and $M_{2}$ at those random points generated above, and obtain $m \\times n$ computer model output matrix ${\\bf f}$."
   ]
  },
  {
   "cell_type": "code",
   "execution_count": 39,
   "id": "a906778c",
   "metadata": {},
   "outputs": [
    {
     "name": "stdout",
     "output_type": "stream",
     "text": [
      "(84, 50)\n",
      "(84, 50)\n"
     ]
    }
   ],
   "source": [
    "# create a computer experiment to build an emulator for the gravity simulation\n",
    "f_grav = balldropmodel_grav(xtotv, theta_grav)  \n",
    "print(np.shape(f_grav))\n",
    "\n",
    "# create a computer experiment to build an emulator for the linear simulation\n",
    "f_quad = balldropmodel_quad(xtotv, theta_quad) \n",
    "print(np.shape(f_quad))\n",
    "\n",
    "#printing things to check\n",
    "#print(\"\\n First: \\n \\n\", f_grav)\n",
    "#print(\"\\n Second: \\n \\n \", f_quad)\n",
    "#print(f_quad.ndim)\n",
    "#print(theta_quad.ndim)\n",
    "#print(xtot.ndim)"
   ]
  },
  {
   "cell_type": "markdown",
   "id": "bd4e42b2",
   "metadata": {},
   "source": [
    "## Model emulation\n",
    "\n",
    "Now, we will emulate the models $M_{1}$ and $M_{2}$. We will use PCGP.\n",
    "\n",
    "##### Comment to discuss:\n",
    "\n",
    "I had to fix theta_quad ad hoc here to take only the 2 parameters but shouldn't the code be able to handle as many given parameters?"
   ]
  },
  {
   "cell_type": "code",
   "execution_count": 40,
   "id": "f01af0a0",
   "metadata": {},
   "outputs": [],
   "source": [
    "# build an emulator for the quadratic simulation\n",
    "emu_quad_1 = emulator(x=xtot, theta=theta_quad[:, 0:2], f=f_quad, method='PCGP') \n",
    "\n",
    "\n",
    "# build an emulator for the gravity simulation\n",
    "emu_grav_1 = emulator(x=xtot, theta=theta_grav, f=f_grav, method='PCGP')\n",
    "\n",
    "##printing things to check\n",
    "#print(emu_quad_1)"
   ]
  },
  {
   "cell_type": "markdown",
   "id": "b4f07a33",
   "metadata": {},
   "source": [
    "## Comparison of emulation and models \n",
    "\n",
    "Let's first generate random draws of parameters, and evaluate the computer model at those values."
   ]
  },
  {
   "cell_type": "code",
   "execution_count": 19,
   "id": "8c313540",
   "metadata": {},
   "outputs": [],
   "source": [
    "# (Test) draw 50 random parameters from the prior\n",
    "theta_grav_test = priorphys_grav.rnd(50) \n",
    "\n",
    "# (Test) draw 50 random parameters from the prior\n",
    "theta_quad_test = priorphys_quad.rnd(50, m, D)  \n",
    "\n",
    "# (Test) the value of the gravity simulation\n",
    "f_grav_test = balldropmodel_grav(xtotv, theta_grav_test)  \n",
    "\n",
    "# (Test) the value of the linear simulation\n",
    "f_quad_test = balldropmodel_quad(xtotv, theta_quad_test) \n",
    "\n",
    "## Printing things to check\n",
    "#print(\"\\n First: \\n \\n\", theta_grav_test)\n",
    "#print(\"\\n Second: \\n \\n\", theta_quad_test)\n",
    "#print(theta_quad_test[:, 0:2])"
   ]
  },
  {
   "cell_type": "markdown",
   "id": "5d7c7689",
   "metadata": {},
   "source": [
    "Then, let's get the predict object of the emulator for the hold-out data:"
   ]
  },
  {
   "cell_type": "code",
   "execution_count": 24,
   "id": "9e5eb52d",
   "metadata": {},
   "outputs": [
    {
     "name": "stdout",
     "output_type": "stream",
     "text": [
      "A emulation prediction object predict where the code in located in the file  emulation.  The main method are predict.covx, predict.covxhalf, predict.covxhalf_gradtheta, predict.lpdf, predict.mean, predict.mean_gradtheta, predict.rnd, predict.var.  Default of predict() is predict.mean() and predict(s) will run pred.rnd(s). Run help(predict) for the document string.\n"
     ]
    }
   ],
   "source": [
    "pred_grav_1 = emu_grav_1.predict(x=xtot, theta=theta_grav_test)\n",
    "pred_quad_1 = emu_quad_1.predict(x=xtot, theta=theta_quad_test)\n",
    "\n",
    "## printing things to check\n",
    "#print(pred_quad_1)"
   ]
  },
  {
   "cell_type": "code",
   "execution_count": 25,
   "id": "924b975c",
   "metadata": {},
   "outputs": [
    {
     "name": "stdout",
     "output_type": "stream",
     "text": [
      "\n",
      " Second: \n",
      " \n",
      " [[nan nan nan ... nan nan nan]\n",
      " [nan nan nan ... nan nan nan]\n",
      " [nan nan nan ... nan nan nan]\n",
      " ...\n",
      " [nan nan nan ... nan nan nan]\n",
      " [nan nan nan ... nan nan nan]\n",
      " [nan nan nan ... nan nan nan]]\n"
     ]
    }
   ],
   "source": [
    "# get the prediction means and variances\n",
    "pred_quad_1_m, pred_quad_1_var = pred_quad_1.mean(), pred_quad_1.var()\n",
    "pred_grav_1_m, pred_grav_1_var = pred_grav_1.mean(), pred_grav_1.var()\n",
    "\n",
    "##printing things to check\n",
    "#print(\"\\n First: \\n \\n\", pred_grav_1_m)\n",
    "#print(\"\\n Second: \\n \\n\", pred_quad_1_m)"
   ]
  },
  {
   "cell_type": "markdown",
   "id": "90db3032",
   "metadata": {},
   "source": [
    "Finally, let's observe the sum of squared deviations between the prediction means and the simulated output:"
   ]
  },
  {
   "cell_type": "code",
   "execution_count": 23,
   "id": "3b2cbd12",
   "metadata": {},
   "outputs": [
    {
     "name": "stdout",
     "output_type": "stream",
     "text": [
      "Rsq PCGP =  nan\n",
      "SSE PCGP =  nan\n",
      "Rsq PCGP =  -0.16\n",
      "SSE PCGP =  3188778.43\n"
     ]
    }
   ],
   "source": [
    "print('Rsq PCGP = ', np.round(1 - np.sum(np.square(pred_quad_1_m - f_quad_test))/np.sum(np.square(f_quad_test.T - np.mean(f_quad_test, axis = 1))), 2))\n",
    "print('SSE PCGP = ', np.round(np.sum(np.square(pred_quad_1_m - f_quad_test)), 2))\n",
    "\n",
    "print('Rsq PCGP = ', np.round(1 - np.sum(np.square(pred_grav_1_m - f_grav_test))/np.sum(np.square(f_grav_test.T - np.mean(f_grav_test, axis = 1))), 2))\n",
    "print('SSE PCGP = ', np.round(np.sum(np.square(pred_grav_1_m - f_grav_test)), 2))"
   ]
  },
  {
   "cell_type": "code",
   "execution_count": null,
   "id": "9cb6c7e6",
   "metadata": {},
   "outputs": [],
   "source": []
  },
  {
   "cell_type": "code",
   "execution_count": null,
   "id": "b46a863d",
   "metadata": {},
   "outputs": [],
   "source": []
  }
 ],
 "metadata": {
  "kernelspec": {
   "display_name": "Python 3",
   "language": "python",
   "name": "python3"
  },
  "language_info": {
   "codemirror_mode": {
    "name": "ipython",
    "version": 3
   },
   "file_extension": ".py",
   "mimetype": "text/x-python",
   "name": "python",
   "nbconvert_exporter": "python",
   "pygments_lexer": "ipython3",
   "version": "3.8.8"
  }
 },
 "nbformat": 4,
 "nbformat_minor": 5
}
